{
  "nbformat": 4,
  "nbformat_minor": 0,
  "metadata": {
    "colab": {
      "name": "bangkit w05 winequality",
      "provenance": [],
      "collapsed_sections": [],
      "toc_visible": true,
      "include_colab_link": true
    },
    "kernelspec": {
      "name": "python3",
      "display_name": "Python 3"
    }
  },
  "cells": [
    {
      "cell_type": "markdown",
      "metadata": {
        "id": "view-in-github",
        "colab_type": "text"
      },
      "source": [
        "<a href=\"https://colab.research.google.com/github/imiro/bangkit-w05-winequality/blob/notebook-refactor/bangkit-w05-winequality.ipynb\" target=\"_parent\"><img src=\"https://colab.research.google.com/assets/colab-badge.svg\" alt=\"Open In Colab\"/></a>"
      ]
    },
    {
      "cell_type": "markdown",
      "metadata": {
        "id": "AdRb9rEcXcaT",
        "colab_type": "text"
      },
      "source": [
        "# Preparation"
      ]
    },
    {
      "cell_type": "code",
      "metadata": {
        "id": "2zLDRC_UcLHO",
        "colab_type": "code",
        "outputId": "a70e835a-9aa9-4229-ba49-5e26a70be62b",
        "colab": {
          "base_uri": "https://localhost:8080/",
          "height": 34
        }
      },
      "source": [
        "# Install TF docs\n",
        "!pip install -q git+https://github.com/tensorflow/docs"
      ],
      "execution_count": 1,
      "outputs": [
        {
          "output_type": "stream",
          "text": [
            "  Building wheel for tensorflow-docs (setup.py) ... \u001b[?25l\u001b[?25hdone\n"
          ],
          "name": "stdout"
        }
      ]
    },
    {
      "cell_type": "code",
      "metadata": {
        "id": "v6AA7tHqIBEr",
        "colab_type": "code",
        "cellView": "both",
        "colab": {
          "base_uri": "https://localhost:8080/",
          "height": 34
        },
        "outputId": "3500aae1-ee88-40d6-8673-838eab8ddcbd"
      },
      "source": [
        "#@title Import statements\n",
        "\n",
        "import tensorflow as tf\n",
        "import numpy as np\n",
        "import pandas as pd\n",
        "from tensorflow import keras\n",
        "from tensorflow.keras import layers\n",
        "\n",
        "print(tf.__version__)\n",
        "\n",
        "import tensorflow_docs as tfdocs\n",
        "import tensorflow_docs.plots\n",
        "import tensorflow_docs.modeling"
      ],
      "execution_count": 2,
      "outputs": [
        {
          "output_type": "stream",
          "text": [
            "2.2.0-rc2\n"
          ],
          "name": "stdout"
        }
      ]
    },
    {
      "cell_type": "code",
      "metadata": {
        "id": "GHLUImwsXkXq",
        "colab_type": "code",
        "cellView": "both",
        "colab": {
          "base_uri": "https://localhost:8080/",
          "height": 54
        },
        "outputId": "d01c5721-302f-4c59-8f59-8ef0c6dcac64"
      },
      "source": [
        "#@title (Misc) GDrive integration\n",
        "import os\n",
        "from google.colab import drive\n",
        "drive.mount('/content/gdrive')"
      ],
      "execution_count": 3,
      "outputs": [
        {
          "output_type": "stream",
          "text": [
            "Drive already mounted at /content/gdrive; to attempt to forcibly remount, call drive.mount(\"/content/gdrive\", force_remount=True).\n"
          ],
          "name": "stdout"
        }
      ]
    },
    {
      "cell_type": "markdown",
      "metadata": {
        "id": "9sKNc6cJJPpl",
        "colab_type": "text"
      },
      "source": [
        "# Read dataset from CSV file"
      ]
    },
    {
      "cell_type": "code",
      "metadata": {
        "id": "yLwvNnfDKSIF",
        "colab_type": "code",
        "colab": {}
      },
      "source": [
        "url = 'https://raw.githubusercontent.com/imiro/bangkit-w05-winequality/master/datasets/winequality-red.csv'\n",
        "df = pd.read_csv(url, error_bad_lines=False)"
      ],
      "execution_count": 0,
      "outputs": []
    },
    {
      "cell_type": "markdown",
      "metadata": {
        "id": "LDkSnndYJZNL",
        "colab_type": "text"
      },
      "source": [
        "# Dataset characteristics"
      ]
    },
    {
      "cell_type": "code",
      "metadata": {
        "id": "MEQYeOeLKryu",
        "colab_type": "code",
        "cellView": "both",
        "colab": {
          "base_uri": "https://localhost:8080/",
          "height": 70
        },
        "outputId": "b07894ec-a679-4aaa-ad10-af25959881c2"
      },
      "source": [
        "#@title Import plotting functions\n",
        "\n",
        "import matplotlib.pyplot as plt\n",
        "import seaborn as sns\n",
        "import pandas.util.testing as tm\n",
        "from collections import Counter"
      ],
      "execution_count": 5,
      "outputs": [
        {
          "output_type": "stream",
          "text": [
            "/usr/local/lib/python3.6/dist-packages/statsmodels/tools/_testing.py:19: FutureWarning: pandas.util.testing is deprecated. Use the functions in the public API at pandas.testing instead.\n",
            "  import pandas.util.testing as tm\n"
          ],
          "name": "stderr"
        }
      ]
    },
    {
      "cell_type": "code",
      "metadata": {
        "id": "W5a6qxUjKbB-",
        "colab_type": "code",
        "outputId": "f4328b01-18eb-480c-b83b-65d795989102",
        "colab": {
          "base_uri": "https://localhost:8080/",
          "height": 397
        }
      },
      "source": [
        "df.head(10)"
      ],
      "execution_count": 6,
      "outputs": [
        {
          "output_type": "execute_result",
          "data": {
            "text/html": [
              "<div>\n",
              "<style scoped>\n",
              "    .dataframe tbody tr th:only-of-type {\n",
              "        vertical-align: middle;\n",
              "    }\n",
              "\n",
              "    .dataframe tbody tr th {\n",
              "        vertical-align: top;\n",
              "    }\n",
              "\n",
              "    .dataframe thead th {\n",
              "        text-align: right;\n",
              "    }\n",
              "</style>\n",
              "<table border=\"1\" class=\"dataframe\">\n",
              "  <thead>\n",
              "    <tr style=\"text-align: right;\">\n",
              "      <th></th>\n",
              "      <th>fixed acidity</th>\n",
              "      <th>volatile acidity</th>\n",
              "      <th>citric acid</th>\n",
              "      <th>residual sugar</th>\n",
              "      <th>chlorides</th>\n",
              "      <th>free sulfur dioxide</th>\n",
              "      <th>total sulfur dioxide</th>\n",
              "      <th>density</th>\n",
              "      <th>pH</th>\n",
              "      <th>sulphates</th>\n",
              "      <th>alcohol</th>\n",
              "      <th>quality</th>\n",
              "    </tr>\n",
              "  </thead>\n",
              "  <tbody>\n",
              "    <tr>\n",
              "      <th>0</th>\n",
              "      <td>7.4</td>\n",
              "      <td>0.70</td>\n",
              "      <td>0.00</td>\n",
              "      <td>1.9</td>\n",
              "      <td>0.076</td>\n",
              "      <td>11.0</td>\n",
              "      <td>34.0</td>\n",
              "      <td>0.9978</td>\n",
              "      <td>3.51</td>\n",
              "      <td>0.56</td>\n",
              "      <td>9.4</td>\n",
              "      <td>5</td>\n",
              "    </tr>\n",
              "    <tr>\n",
              "      <th>1</th>\n",
              "      <td>7.8</td>\n",
              "      <td>0.88</td>\n",
              "      <td>0.00</td>\n",
              "      <td>2.6</td>\n",
              "      <td>0.098</td>\n",
              "      <td>25.0</td>\n",
              "      <td>67.0</td>\n",
              "      <td>0.9968</td>\n",
              "      <td>3.20</td>\n",
              "      <td>0.68</td>\n",
              "      <td>9.8</td>\n",
              "      <td>5</td>\n",
              "    </tr>\n",
              "    <tr>\n",
              "      <th>2</th>\n",
              "      <td>7.8</td>\n",
              "      <td>0.76</td>\n",
              "      <td>0.04</td>\n",
              "      <td>2.3</td>\n",
              "      <td>0.092</td>\n",
              "      <td>15.0</td>\n",
              "      <td>54.0</td>\n",
              "      <td>0.9970</td>\n",
              "      <td>3.26</td>\n",
              "      <td>0.65</td>\n",
              "      <td>9.8</td>\n",
              "      <td>5</td>\n",
              "    </tr>\n",
              "    <tr>\n",
              "      <th>3</th>\n",
              "      <td>11.2</td>\n",
              "      <td>0.28</td>\n",
              "      <td>0.56</td>\n",
              "      <td>1.9</td>\n",
              "      <td>0.075</td>\n",
              "      <td>17.0</td>\n",
              "      <td>60.0</td>\n",
              "      <td>0.9980</td>\n",
              "      <td>3.16</td>\n",
              "      <td>0.58</td>\n",
              "      <td>9.8</td>\n",
              "      <td>6</td>\n",
              "    </tr>\n",
              "    <tr>\n",
              "      <th>4</th>\n",
              "      <td>7.4</td>\n",
              "      <td>0.70</td>\n",
              "      <td>0.00</td>\n",
              "      <td>1.9</td>\n",
              "      <td>0.076</td>\n",
              "      <td>11.0</td>\n",
              "      <td>34.0</td>\n",
              "      <td>0.9978</td>\n",
              "      <td>3.51</td>\n",
              "      <td>0.56</td>\n",
              "      <td>9.4</td>\n",
              "      <td>5</td>\n",
              "    </tr>\n",
              "    <tr>\n",
              "      <th>5</th>\n",
              "      <td>7.4</td>\n",
              "      <td>0.66</td>\n",
              "      <td>0.00</td>\n",
              "      <td>1.8</td>\n",
              "      <td>0.075</td>\n",
              "      <td>13.0</td>\n",
              "      <td>40.0</td>\n",
              "      <td>0.9978</td>\n",
              "      <td>3.51</td>\n",
              "      <td>0.56</td>\n",
              "      <td>9.4</td>\n",
              "      <td>5</td>\n",
              "    </tr>\n",
              "    <tr>\n",
              "      <th>6</th>\n",
              "      <td>7.9</td>\n",
              "      <td>0.60</td>\n",
              "      <td>0.06</td>\n",
              "      <td>1.6</td>\n",
              "      <td>0.069</td>\n",
              "      <td>15.0</td>\n",
              "      <td>59.0</td>\n",
              "      <td>0.9964</td>\n",
              "      <td>3.30</td>\n",
              "      <td>0.46</td>\n",
              "      <td>9.4</td>\n",
              "      <td>5</td>\n",
              "    </tr>\n",
              "    <tr>\n",
              "      <th>7</th>\n",
              "      <td>7.3</td>\n",
              "      <td>0.65</td>\n",
              "      <td>0.00</td>\n",
              "      <td>1.2</td>\n",
              "      <td>0.065</td>\n",
              "      <td>15.0</td>\n",
              "      <td>21.0</td>\n",
              "      <td>0.9946</td>\n",
              "      <td>3.39</td>\n",
              "      <td>0.47</td>\n",
              "      <td>10.0</td>\n",
              "      <td>7</td>\n",
              "    </tr>\n",
              "    <tr>\n",
              "      <th>8</th>\n",
              "      <td>7.8</td>\n",
              "      <td>0.58</td>\n",
              "      <td>0.02</td>\n",
              "      <td>2.0</td>\n",
              "      <td>0.073</td>\n",
              "      <td>9.0</td>\n",
              "      <td>18.0</td>\n",
              "      <td>0.9968</td>\n",
              "      <td>3.36</td>\n",
              "      <td>0.57</td>\n",
              "      <td>9.5</td>\n",
              "      <td>7</td>\n",
              "    </tr>\n",
              "    <tr>\n",
              "      <th>9</th>\n",
              "      <td>7.5</td>\n",
              "      <td>0.50</td>\n",
              "      <td>0.36</td>\n",
              "      <td>6.1</td>\n",
              "      <td>0.071</td>\n",
              "      <td>17.0</td>\n",
              "      <td>102.0</td>\n",
              "      <td>0.9978</td>\n",
              "      <td>3.35</td>\n",
              "      <td>0.80</td>\n",
              "      <td>10.5</td>\n",
              "      <td>5</td>\n",
              "    </tr>\n",
              "  </tbody>\n",
              "</table>\n",
              "</div>"
            ],
            "text/plain": [
              "   fixed acidity  volatile acidity  citric acid  ...  sulphates  alcohol  quality\n",
              "0            7.4              0.70         0.00  ...       0.56      9.4        5\n",
              "1            7.8              0.88         0.00  ...       0.68      9.8        5\n",
              "2            7.8              0.76         0.04  ...       0.65      9.8        5\n",
              "3           11.2              0.28         0.56  ...       0.58      9.8        6\n",
              "4            7.4              0.70         0.00  ...       0.56      9.4        5\n",
              "5            7.4              0.66         0.00  ...       0.56      9.4        5\n",
              "6            7.9              0.60         0.06  ...       0.46      9.4        5\n",
              "7            7.3              0.65         0.00  ...       0.47     10.0        7\n",
              "8            7.8              0.58         0.02  ...       0.57      9.5        7\n",
              "9            7.5              0.50         0.36  ...       0.80     10.5        5\n",
              "\n",
              "[10 rows x 12 columns]"
            ]
          },
          "metadata": {
            "tags": []
          },
          "execution_count": 6
        }
      ]
    },
    {
      "cell_type": "markdown",
      "metadata": {
        "id": "vtmmqAvSX443",
        "colab_type": "text"
      },
      "source": [
        "Here we explore what our dataset has to offer."
      ]
    },
    {
      "cell_type": "code",
      "metadata": {
        "id": "pJELuKEDKd8u",
        "colab_type": "code",
        "outputId": "91a09032-28a3-482a-c8ad-a40424e30cb3",
        "colab": {
          "base_uri": "https://localhost:8080/",
          "height": 336
        }
      },
      "source": [
        "df.info()"
      ],
      "execution_count": 7,
      "outputs": [
        {
          "output_type": "stream",
          "text": [
            "<class 'pandas.core.frame.DataFrame'>\n",
            "RangeIndex: 1599 entries, 0 to 1598\n",
            "Data columns (total 12 columns):\n",
            " #   Column                Non-Null Count  Dtype  \n",
            "---  ------                --------------  -----  \n",
            " 0   fixed acidity         1599 non-null   float64\n",
            " 1   volatile acidity      1599 non-null   float64\n",
            " 2   citric acid           1599 non-null   float64\n",
            " 3   residual sugar        1599 non-null   float64\n",
            " 4   chlorides             1599 non-null   float64\n",
            " 5   free sulfur dioxide   1599 non-null   float64\n",
            " 6   total sulfur dioxide  1599 non-null   float64\n",
            " 7   density               1599 non-null   float64\n",
            " 8   pH                    1599 non-null   float64\n",
            " 9   sulphates             1599 non-null   float64\n",
            " 10  alcohol               1599 non-null   float64\n",
            " 11  quality               1599 non-null   int64  \n",
            "dtypes: float64(11), int64(1)\n",
            "memory usage: 150.0 KB\n"
          ],
          "name": "stdout"
        }
      ]
    },
    {
      "cell_type": "code",
      "metadata": {
        "id": "2v4a0Lu-KlB_",
        "colab_type": "code",
        "outputId": "fdf94fba-3a3f-4929-80df-5e07370fa789",
        "colab": {
          "base_uri": "https://localhost:8080/",
          "height": 34
        }
      },
      "source": [
        "df.shape"
      ],
      "execution_count": 8,
      "outputs": [
        {
          "output_type": "execute_result",
          "data": {
            "text/plain": [
              "(1599, 12)"
            ]
          },
          "metadata": {
            "tags": []
          },
          "execution_count": 8
        }
      ]
    },
    {
      "cell_type": "code",
      "metadata": {
        "id": "bpOKfHBJKp45",
        "colab_type": "code",
        "outputId": "87de643b-a12d-40c7-f5c0-3ff1295adebf",
        "colab": {
          "base_uri": "https://localhost:8080/",
          "height": 104
        }
      },
      "source": [
        "df.columns"
      ],
      "execution_count": 9,
      "outputs": [
        {
          "output_type": "execute_result",
          "data": {
            "text/plain": [
              "Index(['fixed acidity', 'volatile acidity', 'citric acid', 'residual sugar',\n",
              "       'chlorides', 'free sulfur dioxide', 'total sulfur dioxide', 'density',\n",
              "       'pH', 'sulphates', 'alcohol', 'quality'],\n",
              "      dtype='object')"
            ]
          },
          "metadata": {
            "tags": []
          },
          "execution_count": 9
        }
      ]
    },
    {
      "cell_type": "code",
      "metadata": {
        "id": "DbrNIkgrKz0w",
        "colab_type": "code",
        "outputId": "0fd12e4c-54f6-428c-9032-1ed9a49137ef",
        "colab": {
          "base_uri": "https://localhost:8080/",
          "height": 134
        }
      },
      "source": [
        "df['quality'].value_counts(sort=False)"
      ],
      "execution_count": 10,
      "outputs": [
        {
          "output_type": "execute_result",
          "data": {
            "text/plain": [
              "3     10\n",
              "4     53\n",
              "5    681\n",
              "6    638\n",
              "7    199\n",
              "8     18\n",
              "Name: quality, dtype: int64"
            ]
          },
          "metadata": {
            "tags": []
          },
          "execution_count": 10
        }
      ]
    },
    {
      "cell_type": "code",
      "metadata": {
        "id": "3liB4kk4LHOf",
        "colab_type": "code",
        "outputId": "b9f3a773-85fe-450a-e8d4-520fefc9da76",
        "colab": {
          "base_uri": "https://localhost:8080/",
          "height": 296
        }
      },
      "source": [
        "sns.countplot(x='quality', data=df)"
      ],
      "execution_count": 11,
      "outputs": [
        {
          "output_type": "execute_result",
          "data": {
            "text/plain": [
              "<matplotlib.axes._subplots.AxesSubplot at 0x7f2c7c95ec50>"
            ]
          },
          "metadata": {
            "tags": []
          },
          "execution_count": 11
        },
        {
          "output_type": "display_data",
          "data": {
            "image/png": "[encoded data removed]",
            "text/plain": [
              "<Figure size 432x288 with 1 Axes>"
            ]
          },
          "metadata": {
            "tags": []
          }
        }
      ]
    },
    {
      "cell_type": "code",
      "metadata": {
        "id": "2ZfuyWj1K7zn",
        "colab_type": "code",
        "colab": {}
      },
      "source": [
        "# sns.pairplot(df)"
      ],
      "execution_count": 0,
      "outputs": []
    },
    {
      "cell_type": "markdown",
      "metadata": {
        "id": "wEZFd-dqZZo9",
        "colab_type": "text"
      },
      "source": [
        "# Data Prep"
      ]
    },
    {
      "cell_type": "markdown",
      "metadata": {
        "id": "A4GYSiiz9e_P",
        "colab_type": "text"
      },
      "source": [
        "## Group quality to 3 categories\n",
        "\n",
        "To simplify our problem, we want to divide 0-10 quality scale into 3 rating categories: `low`, `moderate` and `high` quality. These categories should be more practical for real-world use.\n",
        "\n",
        "We determine that:\n",
        "- wine quality of `0 - 4` belongs to `low` rating (label: `0`)\n",
        "- wine quality of `5 - 6` belongs to `moderate` rating (label: `1`)\n",
        "- wine quality of `>= 7` belongs to `high` rating (label: `2`)"
      ]
    },
    {
      "cell_type": "code",
      "metadata": {
        "id": "U0wnqKc4LN0D",
        "colab_type": "code",
        "colab": {}
      },
      "source": [
        "# divide quality to rating\n",
        "# 0 < q < 5: 0; 5 <= q < 7: 1; q >= 7: 2;\n",
        "\n",
        "df['Rating'] = df['quality'].map(lambda x: 0 if x < 5 else 1 if x < 7 else 2)\n",
        "\n",
        "df['Rating'].value_counts()"
      ],
      "execution_count": 0,
      "outputs": []
    },
    {
      "cell_type": "code",
      "metadata": {
        "id": "RepYplfULvxg",
        "colab_type": "code",
        "outputId": "4ee52d26-bb7f-4a75-8bb0-67a28bd58355",
        "colab": {
          "base_uri": "https://localhost:8080/",
          "height": 570
        }
      },
      "source": [
        "df.describe().transpose()"
      ],
      "execution_count": 15,
      "outputs": [
        {
          "output_type": "execute_result",
          "data": {
            "text/html": [
              "<div>\n",
              "<style scoped>\n",
              "    .dataframe tbody tr th:only-of-type {\n",
              "        vertical-align: middle;\n",
              "    }\n",
              "\n",
              "    .dataframe tbody tr th {\n",
              "        vertical-align: top;\n",
              "    }\n",
              "\n",
              "    .dataframe thead th {\n",
              "        text-align: right;\n",
              "    }\n",
              "</style>\n",
              "<table border=\"1\" class=\"dataframe\">\n",
              "  <thead>\n",
              "    <tr style=\"text-align: right;\">\n",
              "      <th></th>\n",
              "      <th>count</th>\n",
              "      <th>mean</th>\n",
              "      <th>std</th>\n",
              "      <th>min</th>\n",
              "      <th>25%</th>\n",
              "      <th>50%</th>\n",
              "      <th>75%</th>\n",
              "      <th>max</th>\n",
              "    </tr>\n",
              "  </thead>\n",
              "  <tbody>\n",
              "    <tr>\n",
              "      <th>fixed acidity</th>\n",
              "      <td>1599.0</td>\n",
              "      <td>8.319637</td>\n",
              "      <td>1.741096</td>\n",
              "      <td>4.60000</td>\n",
              "      <td>7.1000</td>\n",
              "      <td>7.90000</td>\n",
              "      <td>9.200000</td>\n",
              "      <td>15.90000</td>\n",
              "    </tr>\n",
              "    <tr>\n",
              "      <th>volatile acidity</th>\n",
              "      <td>1599.0</td>\n",
              "      <td>0.527821</td>\n",
              "      <td>0.179060</td>\n",
              "      <td>0.12000</td>\n",
              "      <td>0.3900</td>\n",
              "      <td>0.52000</td>\n",
              "      <td>0.640000</td>\n",
              "      <td>1.58000</td>\n",
              "    </tr>\n",
              "    <tr>\n",
              "      <th>citric acid</th>\n",
              "      <td>1599.0</td>\n",
              "      <td>0.270976</td>\n",
              "      <td>0.194801</td>\n",
              "      <td>0.00000</td>\n",
              "      <td>0.0900</td>\n",
              "      <td>0.26000</td>\n",
              "      <td>0.420000</td>\n",
              "      <td>1.00000</td>\n",
              "    </tr>\n",
              "    <tr>\n",
              "      <th>residual sugar</th>\n",
              "      <td>1599.0</td>\n",
              "      <td>2.538806</td>\n",
              "      <td>1.409928</td>\n",
              "      <td>0.90000</td>\n",
              "      <td>1.9000</td>\n",
              "      <td>2.20000</td>\n",
              "      <td>2.600000</td>\n",
              "      <td>15.50000</td>\n",
              "    </tr>\n",
              "    <tr>\n",
              "      <th>chlorides</th>\n",
              "      <td>1599.0</td>\n",
              "      <td>0.087467</td>\n",
              "      <td>0.047065</td>\n",
              "      <td>0.01200</td>\n",
              "      <td>0.0700</td>\n",
              "      <td>0.07900</td>\n",
              "      <td>0.090000</td>\n",
              "      <td>0.61100</td>\n",
              "    </tr>\n",
              "    <tr>\n",
              "      <th>free sulfur dioxide</th>\n",
              "      <td>1599.0</td>\n",
              "      <td>15.874922</td>\n",
              "      <td>10.460157</td>\n",
              "      <td>1.00000</td>\n",
              "      <td>7.0000</td>\n",
              "      <td>14.00000</td>\n",
              "      <td>21.000000</td>\n",
              "      <td>72.00000</td>\n",
              "    </tr>\n",
              "    <tr>\n",
              "      <th>total sulfur dioxide</th>\n",
              "      <td>1599.0</td>\n",
              "      <td>46.467792</td>\n",
              "      <td>32.895324</td>\n",
              "      <td>6.00000</td>\n",
              "      <td>22.0000</td>\n",
              "      <td>38.00000</td>\n",
              "      <td>62.000000</td>\n",
              "      <td>289.00000</td>\n",
              "    </tr>\n",
              "    <tr>\n",
              "      <th>density</th>\n",
              "      <td>1599.0</td>\n",
              "      <td>0.996747</td>\n",
              "      <td>0.001887</td>\n",
              "      <td>0.99007</td>\n",
              "      <td>0.9956</td>\n",
              "      <td>0.99675</td>\n",
              "      <td>0.997835</td>\n",
              "      <td>1.00369</td>\n",
              "    </tr>\n",
              "    <tr>\n",
              "      <th>pH</th>\n",
              "      <td>1599.0</td>\n",
              "      <td>3.311113</td>\n",
              "      <td>0.154386</td>\n",
              "      <td>2.74000</td>\n",
              "      <td>3.2100</td>\n",
              "      <td>3.31000</td>\n",
              "      <td>3.400000</td>\n",
              "      <td>4.01000</td>\n",
              "    </tr>\n",
              "    <tr>\n",
              "      <th>sulphates</th>\n",
              "      <td>1599.0</td>\n",
              "      <td>0.658149</td>\n",
              "      <td>0.169507</td>\n",
              "      <td>0.33000</td>\n",
              "      <td>0.5500</td>\n",
              "      <td>0.62000</td>\n",
              "      <td>0.730000</td>\n",
              "      <td>2.00000</td>\n",
              "    </tr>\n",
              "    <tr>\n",
              "      <th>alcohol</th>\n",
              "      <td>1599.0</td>\n",
              "      <td>10.422983</td>\n",
              "      <td>1.065668</td>\n",
              "      <td>8.40000</td>\n",
              "      <td>9.5000</td>\n",
              "      <td>10.20000</td>\n",
              "      <td>11.100000</td>\n",
              "      <td>14.90000</td>\n",
              "    </tr>\n",
              "    <tr>\n",
              "      <th>quality</th>\n",
              "      <td>1599.0</td>\n",
              "      <td>5.636023</td>\n",
              "      <td>0.807569</td>\n",
              "      <td>3.00000</td>\n",
              "      <td>5.0000</td>\n",
              "      <td>6.00000</td>\n",
              "      <td>6.000000</td>\n",
              "      <td>8.00000</td>\n",
              "    </tr>\n",
              "    <tr>\n",
              "      <th>Rating</th>\n",
              "      <td>1599.0</td>\n",
              "      <td>1.096310</td>\n",
              "      <td>0.407354</td>\n",
              "      <td>0.00000</td>\n",
              "      <td>1.0000</td>\n",
              "      <td>1.00000</td>\n",
              "      <td>1.000000</td>\n",
              "      <td>2.00000</td>\n",
              "    </tr>\n",
              "  </tbody>\n",
              "</table>\n",
              "</div>"
            ],
            "text/plain": [
              "                       count       mean  ...        75%        max\n",
              "fixed acidity         1599.0   8.319637  ...   9.200000   15.90000\n",
              "volatile acidity      1599.0   0.527821  ...   0.640000    1.58000\n",
              "citric acid           1599.0   0.270976  ...   0.420000    1.00000\n",
              "residual sugar        1599.0   2.538806  ...   2.600000   15.50000\n",
              "chlorides             1599.0   0.087467  ...   0.090000    0.61100\n",
              "free sulfur dioxide   1599.0  15.874922  ...  21.000000   72.00000\n",
              "total sulfur dioxide  1599.0  46.467792  ...  62.000000  289.00000\n",
              "density               1599.0   0.996747  ...   0.997835    1.00369\n",
              "pH                    1599.0   3.311113  ...   3.400000    4.01000\n",
              "sulphates             1599.0   0.658149  ...   0.730000    2.00000\n",
              "alcohol               1599.0  10.422983  ...  11.100000   14.90000\n",
              "quality               1599.0   5.636023  ...   6.000000    8.00000\n",
              "Rating                1599.0   1.096310  ...   1.000000    2.00000\n",
              "\n",
              "[13 rows x 8 columns]"
            ]
          },
          "metadata": {
            "tags": []
          },
          "execution_count": 15
        }
      ]
    },
    {
      "cell_type": "code",
      "metadata": {
        "id": "_dkEKRsaL1g2",
        "colab_type": "code",
        "outputId": "b9f15c5e-6a99-419e-a670-4545a715e6f2",
        "colab": {
          "base_uri": "https://localhost:8080/",
          "height": 218
        }
      },
      "source": [
        "dataset = df.copy()\n",
        "dataset.pop(\"quality\")"
      ],
      "execution_count": 16,
      "outputs": [
        {
          "output_type": "execute_result",
          "data": {
            "text/plain": [
              "0       5\n",
              "1       5\n",
              "2       5\n",
              "3       6\n",
              "4       5\n",
              "       ..\n",
              "1594    5\n",
              "1595    6\n",
              "1596    6\n",
              "1597    5\n",
              "1598    6\n",
              "Name: quality, Length: 1599, dtype: int64"
            ]
          },
          "metadata": {
            "tags": []
          },
          "execution_count": 16
        }
      ]
    },
    {
      "cell_type": "markdown",
      "metadata": {
        "id": "U6e7v6w5Ziha",
        "colab_type": "text"
      },
      "source": [
        "## Create test data\n",
        "\n",
        "We don't have test data available as is from the source, so we have to create it from the data pool.\n",
        "\n",
        "We decided to train on 80% of the data, and make the rest 20% as the test data.\n",
        "\n",
        "To avoid bias, we divide the train and test data with random sampling."
      ]
    },
    {
      "cell_type": "code",
      "metadata": {
        "id": "vVe3751WMZLr",
        "colab_type": "code",
        "colab": {}
      },
      "source": [
        "train_dataset = dataset.sample(frac=0.8,random_state=0)\n",
        "test_dataset = dataset.drop(train_dataset.index)"
      ],
      "execution_count": 0,
      "outputs": []
    },
    {
      "cell_type": "code",
      "metadata": {
        "id": "EYvsjiJZM0W8",
        "colab_type": "code",
        "outputId": "c926f7d3-6f1e-45eb-89bb-c39bdfcf4f21",
        "colab": {
          "base_uri": "https://localhost:8080/",
          "height": 455
        }
      },
      "source": [
        "train_dataset"
      ],
      "execution_count": 18,
      "outputs": [
        {
          "output_type": "execute_result",
          "data": {
            "text/html": [
              "<div>\n",
              "<style scoped>\n",
              "    .dataframe tbody tr th:only-of-type {\n",
              "        vertical-align: middle;\n",
              "    }\n",
              "\n",
              "    .dataframe tbody tr th {\n",
              "        vertical-align: top;\n",
              "    }\n",
              "\n",
              "    .dataframe thead th {\n",
              "        text-align: right;\n",
              "    }\n",
              "</style>\n",
              "<table border=\"1\" class=\"dataframe\">\n",
              "  <thead>\n",
              "    <tr style=\"text-align: right;\">\n",
              "      <th></th>\n",
              "      <th>fixed acidity</th>\n",
              "      <th>volatile acidity</th>\n",
              "      <th>citric acid</th>\n",
              "      <th>residual sugar</th>\n",
              "      <th>chlorides</th>\n",
              "      <th>free sulfur dioxide</th>\n",
              "      <th>total sulfur dioxide</th>\n",
              "      <th>density</th>\n",
              "      <th>pH</th>\n",
              "      <th>sulphates</th>\n",
              "      <th>alcohol</th>\n",
              "      <th>Rating</th>\n",
              "    </tr>\n",
              "  </thead>\n",
              "  <tbody>\n",
              "    <tr>\n",
              "      <th>1109</th>\n",
              "      <td>10.8</td>\n",
              "      <td>0.470</td>\n",
              "      <td>0.43</td>\n",
              "      <td>2.10</td>\n",
              "      <td>0.171</td>\n",
              "      <td>27.0</td>\n",
              "      <td>66.0</td>\n",
              "      <td>0.99820</td>\n",
              "      <td>3.17</td>\n",
              "      <td>0.76</td>\n",
              "      <td>10.8</td>\n",
              "      <td>1</td>\n",
              "    </tr>\n",
              "    <tr>\n",
              "      <th>1032</th>\n",
              "      <td>8.1</td>\n",
              "      <td>0.820</td>\n",
              "      <td>0.00</td>\n",
              "      <td>4.10</td>\n",
              "      <td>0.095</td>\n",
              "      <td>5.0</td>\n",
              "      <td>14.0</td>\n",
              "      <td>0.99854</td>\n",
              "      <td>3.36</td>\n",
              "      <td>0.53</td>\n",
              "      <td>9.6</td>\n",
              "      <td>1</td>\n",
              "    </tr>\n",
              "    <tr>\n",
              "      <th>1002</th>\n",
              "      <td>9.1</td>\n",
              "      <td>0.290</td>\n",
              "      <td>0.33</td>\n",
              "      <td>2.05</td>\n",
              "      <td>0.063</td>\n",
              "      <td>13.0</td>\n",
              "      <td>27.0</td>\n",
              "      <td>0.99516</td>\n",
              "      <td>3.26</td>\n",
              "      <td>0.84</td>\n",
              "      <td>11.7</td>\n",
              "      <td>2</td>\n",
              "    </tr>\n",
              "    <tr>\n",
              "      <th>487</th>\n",
              "      <td>10.2</td>\n",
              "      <td>0.645</td>\n",
              "      <td>0.36</td>\n",
              "      <td>1.80</td>\n",
              "      <td>0.053</td>\n",
              "      <td>5.0</td>\n",
              "      <td>14.0</td>\n",
              "      <td>0.99820</td>\n",
              "      <td>3.17</td>\n",
              "      <td>0.42</td>\n",
              "      <td>10.0</td>\n",
              "      <td>1</td>\n",
              "    </tr>\n",
              "    <tr>\n",
              "      <th>979</th>\n",
              "      <td>12.2</td>\n",
              "      <td>0.450</td>\n",
              "      <td>0.49</td>\n",
              "      <td>1.40</td>\n",
              "      <td>0.075</td>\n",
              "      <td>3.0</td>\n",
              "      <td>6.0</td>\n",
              "      <td>0.99690</td>\n",
              "      <td>3.13</td>\n",
              "      <td>0.63</td>\n",
              "      <td>10.4</td>\n",
              "      <td>1</td>\n",
              "    </tr>\n",
              "    <tr>\n",
              "      <th>...</th>\n",
              "      <td>...</td>\n",
              "      <td>...</td>\n",
              "      <td>...</td>\n",
              "      <td>...</td>\n",
              "      <td>...</td>\n",
              "      <td>...</td>\n",
              "      <td>...</td>\n",
              "      <td>...</td>\n",
              "      <td>...</td>\n",
              "      <td>...</td>\n",
              "      <td>...</td>\n",
              "      <td>...</td>\n",
              "    </tr>\n",
              "    <tr>\n",
              "      <th>281</th>\n",
              "      <td>7.7</td>\n",
              "      <td>0.270</td>\n",
              "      <td>0.68</td>\n",
              "      <td>3.50</td>\n",
              "      <td>0.358</td>\n",
              "      <td>5.0</td>\n",
              "      <td>10.0</td>\n",
              "      <td>0.99720</td>\n",
              "      <td>3.25</td>\n",
              "      <td>1.08</td>\n",
              "      <td>9.9</td>\n",
              "      <td>2</td>\n",
              "    </tr>\n",
              "    <tr>\n",
              "      <th>932</th>\n",
              "      <td>7.6</td>\n",
              "      <td>0.400</td>\n",
              "      <td>0.29</td>\n",
              "      <td>1.90</td>\n",
              "      <td>0.078</td>\n",
              "      <td>29.0</td>\n",
              "      <td>66.0</td>\n",
              "      <td>0.99710</td>\n",
              "      <td>3.45</td>\n",
              "      <td>0.59</td>\n",
              "      <td>9.5</td>\n",
              "      <td>1</td>\n",
              "    </tr>\n",
              "    <tr>\n",
              "      <th>732</th>\n",
              "      <td>7.3</td>\n",
              "      <td>0.835</td>\n",
              "      <td>0.03</td>\n",
              "      <td>2.10</td>\n",
              "      <td>0.092</td>\n",
              "      <td>10.0</td>\n",
              "      <td>19.0</td>\n",
              "      <td>0.99660</td>\n",
              "      <td>3.39</td>\n",
              "      <td>0.47</td>\n",
              "      <td>9.6</td>\n",
              "      <td>1</td>\n",
              "    </tr>\n",
              "    <tr>\n",
              "      <th>715</th>\n",
              "      <td>7.2</td>\n",
              "      <td>0.490</td>\n",
              "      <td>0.18</td>\n",
              "      <td>2.70</td>\n",
              "      <td>0.069</td>\n",
              "      <td>13.0</td>\n",
              "      <td>34.0</td>\n",
              "      <td>0.99670</td>\n",
              "      <td>3.29</td>\n",
              "      <td>0.48</td>\n",
              "      <td>9.2</td>\n",
              "      <td>1</td>\n",
              "    </tr>\n",
              "    <tr>\n",
              "      <th>832</th>\n",
              "      <td>10.4</td>\n",
              "      <td>0.440</td>\n",
              "      <td>0.42</td>\n",
              "      <td>1.50</td>\n",
              "      <td>0.145</td>\n",
              "      <td>34.0</td>\n",
              "      <td>48.0</td>\n",
              "      <td>0.99832</td>\n",
              "      <td>3.38</td>\n",
              "      <td>0.86</td>\n",
              "      <td>9.9</td>\n",
              "      <td>0</td>\n",
              "    </tr>\n",
              "  </tbody>\n",
              "</table>\n",
              "<p>1279 rows × 12 columns</p>\n",
              "</div>"
            ],
            "text/plain": [
              "      fixed acidity  volatile acidity  citric acid  ...  sulphates  alcohol  Rating\n",
              "1109           10.8             0.470         0.43  ...       0.76     10.8       1\n",
              "1032            8.1             0.820         0.00  ...       0.53      9.6       1\n",
              "1002            9.1             0.290         0.33  ...       0.84     11.7       2\n",
              "487            10.2             0.645         0.36  ...       0.42     10.0       1\n",
              "979            12.2             0.450         0.49  ...       0.63     10.4       1\n",
              "...             ...               ...          ...  ...        ...      ...     ...\n",
              "281             7.7             0.270         0.68  ...       1.08      9.9       2\n",
              "932             7.6             0.400         0.29  ...       0.59      9.5       1\n",
              "732             7.3             0.835         0.03  ...       0.47      9.6       1\n",
              "715             7.2             0.490         0.18  ...       0.48      9.2       1\n",
              "832            10.4             0.440         0.42  ...       0.86      9.9       0\n",
              "\n",
              "[1279 rows x 12 columns]"
            ]
          },
          "metadata": {
            "tags": []
          },
          "execution_count": 18
        }
      ]
    },
    {
      "cell_type": "markdown",
      "metadata": {
        "id": "WblSzpRI7fkp",
        "colab_type": "text"
      },
      "source": [
        "Statistics of the training set.\n",
        "\n",
        "We will use values from this stats (mean, std) to normalize the data."
      ]
    },
    {
      "cell_type": "code",
      "metadata": {
        "id": "AzxODoPIOdQJ",
        "colab_type": "code",
        "outputId": "fad80ca3-0cf4-4ef1-86db-75b693e7ba4e",
        "colab": {
          "base_uri": "https://localhost:8080/",
          "height": 510
        }
      },
      "source": [
        "train_stats = train_dataset.describe()\n",
        "train_stats.pop(\"Rating\")\n",
        "train_stats = train_stats.transpose()\n",
        "train_stats"
      ],
      "execution_count": 19,
      "outputs": [
        {
          "output_type": "execute_result",
          "data": {
            "text/html": [
              "<div>\n",
              "<style scoped>\n",
              "    .dataframe tbody tr th:only-of-type {\n",
              "        vertical-align: middle;\n",
              "    }\n",
              "\n",
              "    .dataframe tbody tr th {\n",
              "        vertical-align: top;\n",
              "    }\n",
              "\n",
              "    .dataframe thead th {\n",
              "        text-align: right;\n",
              "    }\n",
              "</style>\n",
              "<table border=\"1\" class=\"dataframe\">\n",
              "  <thead>\n",
              "    <tr style=\"text-align: right;\">\n",
              "      <th></th>\n",
              "      <th>count</th>\n",
              "      <th>mean</th>\n",
              "      <th>std</th>\n",
              "      <th>min</th>\n",
              "      <th>25%</th>\n",
              "      <th>50%</th>\n",
              "      <th>75%</th>\n",
              "      <th>max</th>\n",
              "    </tr>\n",
              "  </thead>\n",
              "  <tbody>\n",
              "    <tr>\n",
              "      <th>fixed acidity</th>\n",
              "      <td>1279.0</td>\n",
              "      <td>8.310164</td>\n",
              "      <td>1.744190</td>\n",
              "      <td>4.60000</td>\n",
              "      <td>7.1000</td>\n",
              "      <td>7.90000</td>\n",
              "      <td>9.250000</td>\n",
              "      <td>15.9000</td>\n",
              "    </tr>\n",
              "    <tr>\n",
              "      <th>volatile acidity</th>\n",
              "      <td>1279.0</td>\n",
              "      <td>0.525571</td>\n",
              "      <td>0.176645</td>\n",
              "      <td>0.12000</td>\n",
              "      <td>0.3900</td>\n",
              "      <td>0.52000</td>\n",
              "      <td>0.635000</td>\n",
              "      <td>1.5800</td>\n",
              "    </tr>\n",
              "    <tr>\n",
              "      <th>citric acid</th>\n",
              "      <td>1279.0</td>\n",
              "      <td>0.271618</td>\n",
              "      <td>0.196822</td>\n",
              "      <td>0.00000</td>\n",
              "      <td>0.0900</td>\n",
              "      <td>0.26000</td>\n",
              "      <td>0.430000</td>\n",
              "      <td>0.7900</td>\n",
              "    </tr>\n",
              "    <tr>\n",
              "      <th>residual sugar</th>\n",
              "      <td>1279.0</td>\n",
              "      <td>2.516341</td>\n",
              "      <td>1.300985</td>\n",
              "      <td>0.90000</td>\n",
              "      <td>1.9000</td>\n",
              "      <td>2.20000</td>\n",
              "      <td>2.600000</td>\n",
              "      <td>13.9000</td>\n",
              "    </tr>\n",
              "    <tr>\n",
              "      <th>chlorides</th>\n",
              "      <td>1279.0</td>\n",
              "      <td>0.087347</td>\n",
              "      <td>0.045666</td>\n",
              "      <td>0.01200</td>\n",
              "      <td>0.0710</td>\n",
              "      <td>0.07900</td>\n",
              "      <td>0.091000</td>\n",
              "      <td>0.6110</td>\n",
              "    </tr>\n",
              "    <tr>\n",
              "      <th>free sulfur dioxide</th>\n",
              "      <td>1279.0</td>\n",
              "      <td>15.868647</td>\n",
              "      <td>10.438880</td>\n",
              "      <td>1.00000</td>\n",
              "      <td>7.0000</td>\n",
              "      <td>14.00000</td>\n",
              "      <td>21.000000</td>\n",
              "      <td>72.0000</td>\n",
              "    </tr>\n",
              "    <tr>\n",
              "      <th>total sulfur dioxide</th>\n",
              "      <td>1279.0</td>\n",
              "      <td>46.488663</td>\n",
              "      <td>32.952841</td>\n",
              "      <td>6.00000</td>\n",
              "      <td>22.0000</td>\n",
              "      <td>38.00000</td>\n",
              "      <td>62.000000</td>\n",
              "      <td>289.0000</td>\n",
              "    </tr>\n",
              "    <tr>\n",
              "      <th>density</th>\n",
              "      <td>1279.0</td>\n",
              "      <td>0.996739</td>\n",
              "      <td>0.001888</td>\n",
              "      <td>0.99007</td>\n",
              "      <td>0.9956</td>\n",
              "      <td>0.99676</td>\n",
              "      <td>0.997855</td>\n",
              "      <td>1.0032</td>\n",
              "    </tr>\n",
              "    <tr>\n",
              "      <th>pH</th>\n",
              "      <td>1279.0</td>\n",
              "      <td>3.312588</td>\n",
              "      <td>0.153923</td>\n",
              "      <td>2.87000</td>\n",
              "      <td>3.2100</td>\n",
              "      <td>3.31000</td>\n",
              "      <td>3.400000</td>\n",
              "      <td>4.0100</td>\n",
              "    </tr>\n",
              "    <tr>\n",
              "      <th>sulphates</th>\n",
              "      <td>1279.0</td>\n",
              "      <td>0.655012</td>\n",
              "      <td>0.160192</td>\n",
              "      <td>0.33000</td>\n",
              "      <td>0.5500</td>\n",
              "      <td>0.62000</td>\n",
              "      <td>0.730000</td>\n",
              "      <td>1.9800</td>\n",
              "    </tr>\n",
              "    <tr>\n",
              "      <th>alcohol</th>\n",
              "      <td>1279.0</td>\n",
              "      <td>10.436317</td>\n",
              "      <td>1.084177</td>\n",
              "      <td>8.40000</td>\n",
              "      <td>9.5000</td>\n",
              "      <td>10.20000</td>\n",
              "      <td>11.100000</td>\n",
              "      <td>14.9000</td>\n",
              "    </tr>\n",
              "  </tbody>\n",
              "</table>\n",
              "</div>"
            ],
            "text/plain": [
              "                       count       mean  ...        75%       max\n",
              "fixed acidity         1279.0   8.310164  ...   9.250000   15.9000\n",
              "volatile acidity      1279.0   0.525571  ...   0.635000    1.5800\n",
              "citric acid           1279.0   0.271618  ...   0.430000    0.7900\n",
              "residual sugar        1279.0   2.516341  ...   2.600000   13.9000\n",
              "chlorides             1279.0   0.087347  ...   0.091000    0.6110\n",
              "free sulfur dioxide   1279.0  15.868647  ...  21.000000   72.0000\n",
              "total sulfur dioxide  1279.0  46.488663  ...  62.000000  289.0000\n",
              "density               1279.0   0.996739  ...   0.997855    1.0032\n",
              "pH                    1279.0   3.312588  ...   3.400000    4.0100\n",
              "sulphates             1279.0   0.655012  ...   0.730000    1.9800\n",
              "alcohol               1279.0  10.436317  ...  11.100000   14.9000\n",
              "\n",
              "[11 rows x 8 columns]"
            ]
          },
          "metadata": {
            "tags": []
          },
          "execution_count": 19
        }
      ]
    },
    {
      "cell_type": "markdown",
      "metadata": {
        "id": "by4O7LwBbZ3I",
        "colab_type": "text"
      },
      "source": [
        "## Separate label and features"
      ]
    },
    {
      "cell_type": "code",
      "metadata": {
        "id": "ykajF4IlOxzl",
        "colab_type": "code",
        "colab": {}
      },
      "source": [
        "train_labels = train_dataset.pop('Rating')\n",
        "test_labels = test_dataset.pop('Rating')"
      ],
      "execution_count": 0,
      "outputs": []
    },
    {
      "cell_type": "markdown",
      "metadata": {
        "id": "14YkzzfWbhD6",
        "colab_type": "text"
      },
      "source": [
        "## Normalize values\n",
        "\n",
        "On our attempt to see our dataset characteristics earlier, we see that range of the data varies.\n",
        "\n",
        "For example, values of `fixed acidity` ranges from `4.6 - 15.9`, while `total sulfur dioxide` has a range of `6 - 62`. Meanwhile, `pH` values only range from `2.74` to `4.01`.\n",
        "\n",
        "We fear that this can cause  issues when training the model. Therefore, we convert each value of the features to its Z-score."
      ]
    },
    {
      "cell_type": "code",
      "metadata": {
        "id": "59xszrYNO-O6",
        "colab_type": "code",
        "colab": {}
      },
      "source": [
        "def norm(x):\n",
        "  return (x - train_stats['mean']) / train_stats['std']\n",
        "normed_train_data = norm(train_dataset)\n",
        "normed_test_data = norm(test_dataset)"
      ],
      "execution_count": 0,
      "outputs": []
    },
    {
      "cell_type": "code",
      "metadata": {
        "id": "dAVEG0_Wz8OS",
        "colab_type": "code",
        "outputId": "3c545856-f889-4fa8-b0a2-2e8d2e149888",
        "colab": {
          "base_uri": "https://localhost:8080/",
          "height": 611
        }
      },
      "source": [
        "normed_train_data.describe().transpose()"
      ],
      "execution_count": 22,
      "outputs": [
        {
          "output_type": "execute_result",
          "data": {
            "text/html": [
              "<div>\n",
              "<style scoped>\n",
              "    .dataframe tbody tr th:only-of-type {\n",
              "        vertical-align: middle;\n",
              "    }\n",
              "\n",
              "    .dataframe tbody tr th {\n",
              "        vertical-align: top;\n",
              "    }\n",
              "\n",
              "    .dataframe thead th {\n",
              "        text-align: right;\n",
              "    }\n",
              "</style>\n",
              "<table border=\"1\" class=\"dataframe\">\n",
              "  <thead>\n",
              "    <tr style=\"text-align: right;\">\n",
              "      <th></th>\n",
              "      <th>count</th>\n",
              "      <th>mean</th>\n",
              "      <th>std</th>\n",
              "      <th>min</th>\n",
              "      <th>25%</th>\n",
              "      <th>50%</th>\n",
              "      <th>75%</th>\n",
              "      <th>max</th>\n",
              "    </tr>\n",
              "  </thead>\n",
              "  <tbody>\n",
              "    <tr>\n",
              "      <th>fixed acidity</th>\n",
              "      <td>1279.0</td>\n",
              "      <td>-4.041073e-15</td>\n",
              "      <td>1.0</td>\n",
              "      <td>-2.127157</td>\n",
              "      <td>-0.693826</td>\n",
              "      <td>-0.235160</td>\n",
              "      <td>0.538838</td>\n",
              "      <td>4.351497</td>\n",
              "    </tr>\n",
              "    <tr>\n",
              "      <th>volatile acidity</th>\n",
              "      <td>1279.0</td>\n",
              "      <td>-4.294063e-15</td>\n",
              "      <td>1.0</td>\n",
              "      <td>-2.295969</td>\n",
              "      <td>-0.767477</td>\n",
              "      <td>-0.031537</td>\n",
              "      <td>0.619488</td>\n",
              "      <td>5.969209</td>\n",
              "    </tr>\n",
              "    <tr>\n",
              "      <th>citric acid</th>\n",
              "      <td>1279.0</td>\n",
              "      <td>2.692486e-15</td>\n",
              "      <td>1.0</td>\n",
              "      <td>-1.380020</td>\n",
              "      <td>-0.922754</td>\n",
              "      <td>-0.059030</td>\n",
              "      <td>0.804694</td>\n",
              "      <td>2.633757</td>\n",
              "    </tr>\n",
              "    <tr>\n",
              "      <th>residual sugar</th>\n",
              "      <td>1279.0</td>\n",
              "      <td>2.239543e-17</td>\n",
              "      <td>1.0</td>\n",
              "      <td>-1.242398</td>\n",
              "      <td>-0.473750</td>\n",
              "      <td>-0.243155</td>\n",
              "      <td>0.064304</td>\n",
              "      <td>8.750032</td>\n",
              "    </tr>\n",
              "    <tr>\n",
              "      <th>chlorides</th>\n",
              "      <td>1279.0</td>\n",
              "      <td>1.270689e-14</td>\n",
              "      <td>1.0</td>\n",
              "      <td>-1.649964</td>\n",
              "      <td>-0.357972</td>\n",
              "      <td>-0.182787</td>\n",
              "      <td>0.079991</td>\n",
              "      <td>11.467036</td>\n",
              "    </tr>\n",
              "    <tr>\n",
              "      <th>free sulfur dioxide</th>\n",
              "      <td>1279.0</td>\n",
              "      <td>5.989475e-17</td>\n",
              "      <td>1.0</td>\n",
              "      <td>-1.424353</td>\n",
              "      <td>-0.849578</td>\n",
              "      <td>-0.179008</td>\n",
              "      <td>0.491562</td>\n",
              "      <td>5.377143</td>\n",
              "    </tr>\n",
              "    <tr>\n",
              "      <th>total sulfur dioxide</th>\n",
              "      <td>1279.0</td>\n",
              "      <td>-1.035138e-16</td>\n",
              "      <td>1.0</td>\n",
              "      <td>-1.228685</td>\n",
              "      <td>-0.743143</td>\n",
              "      <td>-0.257600</td>\n",
              "      <td>0.470713</td>\n",
              "      <td>7.359345</td>\n",
              "    </tr>\n",
              "    <tr>\n",
              "      <th>density</th>\n",
              "      <td>1279.0</td>\n",
              "      <td>1.039239e-12</td>\n",
              "      <td>1.0</td>\n",
              "      <td>-3.532885</td>\n",
              "      <td>-0.603351</td>\n",
              "      <td>0.011163</td>\n",
              "      <td>0.591242</td>\n",
              "      <td>3.422772</td>\n",
              "    </tr>\n",
              "    <tr>\n",
              "      <th>pH</th>\n",
              "      <td>1279.0</td>\n",
              "      <td>-2.381585e-14</td>\n",
              "      <td>1.0</td>\n",
              "      <td>-2.875377</td>\n",
              "      <td>-0.666487</td>\n",
              "      <td>-0.016813</td>\n",
              "      <td>0.567893</td>\n",
              "      <td>4.530901</td>\n",
              "    </tr>\n",
              "    <tr>\n",
              "      <th>sulphates</th>\n",
              "      <td>1279.0</td>\n",
              "      <td>-5.293307e-16</td>\n",
              "      <td>1.0</td>\n",
              "      <td>-2.028888</td>\n",
              "      <td>-0.655537</td>\n",
              "      <td>-0.218561</td>\n",
              "      <td>0.468115</td>\n",
              "      <td>8.271250</td>\n",
              "    </tr>\n",
              "    <tr>\n",
              "      <th>alcohol</th>\n",
              "      <td>1279.0</td>\n",
              "      <td>1.416967e-14</td>\n",
              "      <td>1.0</td>\n",
              "      <td>-1.878215</td>\n",
              "      <td>-0.863620</td>\n",
              "      <td>-0.217969</td>\n",
              "      <td>0.612153</td>\n",
              "      <td>4.117116</td>\n",
              "    </tr>\n",
              "  </tbody>\n",
              "</table>\n",
              "</div>"
            ],
            "text/plain": [
              "                       count          mean  std  ...       50%       75%        max\n",
              "fixed acidity         1279.0 -4.041073e-15  1.0  ... -0.235160  0.538838   4.351497\n",
              "volatile acidity      1279.0 -4.294063e-15  1.0  ... -0.031537  0.619488   5.969209\n",
              "citric acid           1279.0  2.692486e-15  1.0  ... -0.059030  0.804694   2.633757\n",
              "residual sugar        1279.0  2.239543e-17  1.0  ... -0.243155  0.064304   8.750032\n",
              "chlorides             1279.0  1.270689e-14  1.0  ... -0.182787  0.079991  11.467036\n",
              "free sulfur dioxide   1279.0  5.989475e-17  1.0  ... -0.179008  0.491562   5.377143\n",
              "total sulfur dioxide  1279.0 -1.035138e-16  1.0  ... -0.257600  0.470713   7.359345\n",
              "density               1279.0  1.039239e-12  1.0  ...  0.011163  0.591242   3.422772\n",
              "pH                    1279.0 -2.381585e-14  1.0  ... -0.016813  0.567893   4.530901\n",
              "sulphates             1279.0 -5.293307e-16  1.0  ... -0.218561  0.468115   8.271250\n",
              "alcohol               1279.0  1.416967e-14  1.0  ... -0.217969  0.612153   4.117116\n",
              "\n",
              "[11 rows x 8 columns]"
            ]
          },
          "metadata": {
            "tags": []
          },
          "execution_count": 22
        }
      ]
    },
    {
      "cell_type": "markdown",
      "metadata": {
        "id": "AtjCegEZdBh1",
        "colab_type": "text"
      },
      "source": [
        "# Define the function that builds model"
      ]
    },
    {
      "cell_type": "code",
      "metadata": {
        "id": "AKniqgcQPCqn",
        "colab_type": "code",
        "colab": {}
      },
      "source": [
        "def build_model(my_learning_rate):\n",
        "  model = keras.Sequential([\n",
        "    layers.Flatten(input_shape=[(len(train_dataset.keys()))]),\n",
        "    layers.Dense(128, activation='relu'),\n",
        "    tf.keras.layers.Dropout(0.2),\n",
        "    layers.Dense(3),\n",
        "  ])\n",
        "\n",
        "  optimizer = tf.keras.optimizers.Adam(learning_rate=my_learning_rate)\n",
        "\n",
        "  model.compile(optimizer=optimizer,\n",
        "              # loss='binary_crossentropy',\n",
        "              # loss=tf.keras.losses.BinaryCrossentropy(from_logits=True),\n",
        "              loss=tf.losses.SparseCategoricalCrossentropy(from_logits=True),\n",
        "              metrics=['accuracy'])\n",
        "  return model"
      ],
      "execution_count": 0,
      "outputs": []
    },
    {
      "cell_type": "code",
      "metadata": {
        "id": "QgFcsR4EQWMo",
        "colab_type": "code",
        "colab": {}
      },
      "source": [
        "# example_batch = normed_train_data[:10]\n",
        "# example_result = model.predict(example_batch)\n",
        "# example_result"
      ],
      "execution_count": 0,
      "outputs": []
    },
    {
      "cell_type": "markdown",
      "metadata": {
        "id": "vsNPVT1XhxcR",
        "colab_type": "text"
      },
      "source": [
        "# Set hyperparameters"
      ]
    },
    {
      "cell_type": "code",
      "metadata": {
        "id": "cjslz2uGh0KP",
        "colab_type": "code",
        "colab": {}
      },
      "source": [
        "EPOCHS = 100\n",
        "learning_rate = 0.001"
      ],
      "execution_count": 0,
      "outputs": []
    },
    {
      "cell_type": "markdown",
      "metadata": {
        "id": "gpJ2EcuudK3v",
        "colab_type": "text"
      },
      "source": [
        "# Build and train the model"
      ]
    },
    {
      "cell_type": "code",
      "metadata": {
        "id": "iV431QHuPzJM",
        "colab_type": "code",
        "outputId": "c7fb7009-abb3-4d19-f144-abb591b1e199",
        "colab": {
          "base_uri": "https://localhost:8080/",
          "height": 286
        }
      },
      "source": [
        "model = build_model(learning_rate)\n",
        "model.summary()"
      ],
      "execution_count": 26,
      "outputs": [
        {
          "output_type": "stream",
          "text": [
            "Model: \"sequential\"\n",
            "_________________________________________________________________\n",
            "Layer (type)                 Output Shape              Param #   \n",
            "=================================================================\n",
            "flatten (Flatten)            (None, 11)                0         \n",
            "_________________________________________________________________\n",
            "dense (Dense)                (None, 128)               1536      \n",
            "_________________________________________________________________\n",
            "dropout (Dropout)            (None, 128)               0         \n",
            "_________________________________________________________________\n",
            "dense_1 (Dense)              (None, 3)                 387       \n",
            "=================================================================\n",
            "Total params: 1,923\n",
            "Trainable params: 1,923\n",
            "Non-trainable params: 0\n",
            "_________________________________________________________________\n"
          ],
          "name": "stdout"
        }
      ]
    },
    {
      "cell_type": "code",
      "metadata": {
        "id": "pkUAxwfeQcMS",
        "colab_type": "code",
        "outputId": "47c77519-7cb9-4267-d6c4-7dafa8d7c49f",
        "colab": {
          "base_uri": "https://localhost:8080/",
          "height": 1000
        }
      },
      "source": [
        "checkpoint_path = \"/content/gdrive/My Drive/Trained_Models/wine_binary_quality/wine_binary_quality.ckpt\"\n",
        "checkpoint_dir = os.path.dirname(checkpoint_path)\n",
        "\n",
        "cp_callback = tf.keras.callbacks.ModelCheckpoint(filepath=checkpoint_path,\n",
        "                                                 save_weights_only=True,\n",
        "                                                 verbose=1)\n",
        "history = model.fit(\n",
        "  normed_train_data, train_labels,\n",
        "  # train_dataset, train_labels,\n",
        "  epochs=EPOCHS, \n",
        "  validation_split = 0.2, \n",
        "  # verbose=0,\n",
        "  # callbacks=[cp_callback])\n",
        "  # callbacks=[tfdocs.modeling.EpochDots()])\n",
        "  # batch_size=1\n",
        "  )"
      ],
      "execution_count": 27,
      "outputs": [
        {
          "output_type": "stream",
          "text": [
            "Epoch 1/100\n",
            "32/32 [==============================] - 0s 7ms/step - loss: 0.9637 - accuracy: 0.5718 - val_loss: 0.6689 - val_accuracy: 0.8125\n",
            "Epoch 2/100\n",
            "32/32 [==============================] - 0s 2ms/step - loss: 0.5846 - accuracy: 0.8319 - val_loss: 0.5420 - val_accuracy: 0.8086\n",
            "Epoch 3/100\n",
            "32/32 [==============================] - 0s 2ms/step - loss: 0.5103 - accuracy: 0.8387 - val_loss: 0.4979 - val_accuracy: 0.8164\n",
            "Epoch 4/100\n",
            "32/32 [==============================] - 0s 2ms/step - loss: 0.4758 - accuracy: 0.8446 - val_loss: 0.4749 - val_accuracy: 0.8281\n",
            "Epoch 5/100\n",
            "32/32 [==============================] - 0s 2ms/step - loss: 0.4534 - accuracy: 0.8416 - val_loss: 0.4623 - val_accuracy: 0.8320\n",
            "Epoch 6/100\n",
            "32/32 [==============================] - 0s 2ms/step - loss: 0.4368 - accuracy: 0.8475 - val_loss: 0.4545 - val_accuracy: 0.8320\n",
            "Epoch 7/100\n",
            "32/32 [==============================] - 0s 2ms/step - loss: 0.4300 - accuracy: 0.8495 - val_loss: 0.4545 - val_accuracy: 0.8320\n",
            "Epoch 8/100\n",
            "32/32 [==============================] - 0s 2ms/step - loss: 0.4119 - accuracy: 0.8456 - val_loss: 0.4535 - val_accuracy: 0.8438\n",
            "Epoch 9/100\n",
            "32/32 [==============================] - 0s 2ms/step - loss: 0.4166 - accuracy: 0.8514 - val_loss: 0.4487 - val_accuracy: 0.8477\n",
            "Epoch 10/100\n",
            "32/32 [==============================] - 0s 2ms/step - loss: 0.4080 - accuracy: 0.8456 - val_loss: 0.4491 - val_accuracy: 0.8516\n",
            "Epoch 11/100\n",
            "32/32 [==============================] - 0s 2ms/step - loss: 0.4058 - accuracy: 0.8514 - val_loss: 0.4516 - val_accuracy: 0.8438\n",
            "Epoch 12/100\n",
            "32/32 [==============================] - 0s 3ms/step - loss: 0.4038 - accuracy: 0.8485 - val_loss: 0.4529 - val_accuracy: 0.8359\n",
            "Epoch 13/100\n",
            "32/32 [==============================] - 0s 2ms/step - loss: 0.3988 - accuracy: 0.8563 - val_loss: 0.4552 - val_accuracy: 0.8438\n",
            "Epoch 14/100\n",
            "32/32 [==============================] - 0s 2ms/step - loss: 0.3941 - accuracy: 0.8524 - val_loss: 0.4502 - val_accuracy: 0.8398\n",
            "Epoch 15/100\n",
            "32/32 [==============================] - 0s 2ms/step - loss: 0.3934 - accuracy: 0.8543 - val_loss: 0.4539 - val_accuracy: 0.8438\n",
            "Epoch 16/100\n",
            "32/32 [==============================] - 0s 2ms/step - loss: 0.3901 - accuracy: 0.8495 - val_loss: 0.4570 - val_accuracy: 0.8438\n",
            "Epoch 17/100\n",
            "32/32 [==============================] - 0s 2ms/step - loss: 0.3882 - accuracy: 0.8534 - val_loss: 0.4574 - val_accuracy: 0.8477\n",
            "Epoch 18/100\n",
            "32/32 [==============================] - 0s 2ms/step - loss: 0.3913 - accuracy: 0.8583 - val_loss: 0.4621 - val_accuracy: 0.8438\n",
            "Epoch 19/100\n",
            "32/32 [==============================] - 0s 2ms/step - loss: 0.3788 - accuracy: 0.8358 - val_loss: 0.4542 - val_accuracy: 0.8477\n",
            "Epoch 20/100\n",
            "32/32 [==============================] - 0s 2ms/step - loss: 0.3750 - accuracy: 0.8524 - val_loss: 0.4564 - val_accuracy: 0.8477\n",
            "Epoch 21/100\n",
            "32/32 [==============================] - 0s 2ms/step - loss: 0.3765 - accuracy: 0.8622 - val_loss: 0.4557 - val_accuracy: 0.8438\n",
            "Epoch 22/100\n",
            "32/32 [==============================] - 0s 2ms/step - loss: 0.3744 - accuracy: 0.8563 - val_loss: 0.4607 - val_accuracy: 0.8438\n",
            "Epoch 23/100\n",
            "32/32 [==============================] - 0s 2ms/step - loss: 0.3725 - accuracy: 0.8524 - val_loss: 0.4575 - val_accuracy: 0.8438\n",
            "Epoch 24/100\n",
            "32/32 [==============================] - 0s 2ms/step - loss: 0.3739 - accuracy: 0.8602 - val_loss: 0.4561 - val_accuracy: 0.8516\n",
            "Epoch 25/100\n",
            "32/32 [==============================] - 0s 2ms/step - loss: 0.3724 - accuracy: 0.8563 - val_loss: 0.4612 - val_accuracy: 0.8438\n",
            "Epoch 26/100\n",
            "32/32 [==============================] - 0s 2ms/step - loss: 0.3722 - accuracy: 0.8592 - val_loss: 0.4589 - val_accuracy: 0.8477\n",
            "Epoch 27/100\n",
            "32/32 [==============================] - 0s 2ms/step - loss: 0.3656 - accuracy: 0.8631 - val_loss: 0.4621 - val_accuracy: 0.8438\n",
            "Epoch 28/100\n",
            "32/32 [==============================] - 0s 2ms/step - loss: 0.3716 - accuracy: 0.8612 - val_loss: 0.4681 - val_accuracy: 0.8398\n",
            "Epoch 29/100\n",
            "32/32 [==============================] - 0s 2ms/step - loss: 0.3621 - accuracy: 0.8622 - val_loss: 0.4655 - val_accuracy: 0.8438\n",
            "Epoch 30/100\n",
            "32/32 [==============================] - 0s 2ms/step - loss: 0.3683 - accuracy: 0.8612 - val_loss: 0.4622 - val_accuracy: 0.8398\n",
            "Epoch 31/100\n",
            "32/32 [==============================] - 0s 2ms/step - loss: 0.3591 - accuracy: 0.8631 - val_loss: 0.4626 - val_accuracy: 0.8438\n",
            "Epoch 32/100\n",
            "32/32 [==============================] - 0s 2ms/step - loss: 0.3557 - accuracy: 0.8671 - val_loss: 0.4629 - val_accuracy: 0.8398\n",
            "Epoch 33/100\n",
            "32/32 [==============================] - 0s 3ms/step - loss: 0.3578 - accuracy: 0.8631 - val_loss: 0.4644 - val_accuracy: 0.8398\n",
            "Epoch 34/100\n",
            "32/32 [==============================] - 0s 2ms/step - loss: 0.3476 - accuracy: 0.8759 - val_loss: 0.4704 - val_accuracy: 0.8398\n",
            "Epoch 35/100\n",
            "32/32 [==============================] - 0s 2ms/step - loss: 0.3587 - accuracy: 0.8661 - val_loss: 0.4683 - val_accuracy: 0.8398\n",
            "Epoch 36/100\n",
            "32/32 [==============================] - 0s 2ms/step - loss: 0.3562 - accuracy: 0.8690 - val_loss: 0.4648 - val_accuracy: 0.8398\n",
            "Epoch 37/100\n",
            "32/32 [==============================] - 0s 2ms/step - loss: 0.3535 - accuracy: 0.8583 - val_loss: 0.4654 - val_accuracy: 0.8477\n",
            "Epoch 38/100\n",
            "32/32 [==============================] - 0s 2ms/step - loss: 0.3546 - accuracy: 0.8622 - val_loss: 0.4706 - val_accuracy: 0.8398\n",
            "Epoch 39/100\n",
            "32/32 [==============================] - 0s 2ms/step - loss: 0.3533 - accuracy: 0.8671 - val_loss: 0.4740 - val_accuracy: 0.8438\n",
            "Epoch 40/100\n",
            "32/32 [==============================] - 0s 3ms/step - loss: 0.3499 - accuracy: 0.8661 - val_loss: 0.4721 - val_accuracy: 0.8398\n",
            "Epoch 41/100\n",
            "32/32 [==============================] - 0s 2ms/step - loss: 0.3496 - accuracy: 0.8641 - val_loss: 0.4746 - val_accuracy: 0.8438\n",
            "Epoch 42/100\n",
            "32/32 [==============================] - 0s 2ms/step - loss: 0.3460 - accuracy: 0.8680 - val_loss: 0.4700 - val_accuracy: 0.8398\n",
            "Epoch 43/100\n",
            "32/32 [==============================] - 0s 2ms/step - loss: 0.3431 - accuracy: 0.8661 - val_loss: 0.4723 - val_accuracy: 0.8398\n",
            "Epoch 44/100\n",
            "32/32 [==============================] - 0s 2ms/step - loss: 0.3460 - accuracy: 0.8622 - val_loss: 0.4768 - val_accuracy: 0.8438\n",
            "Epoch 45/100\n",
            "32/32 [==============================] - 0s 2ms/step - loss: 0.3413 - accuracy: 0.8749 - val_loss: 0.4735 - val_accuracy: 0.8398\n",
            "Epoch 46/100\n",
            "32/32 [==============================] - 0s 2ms/step - loss: 0.3502 - accuracy: 0.8641 - val_loss: 0.4751 - val_accuracy: 0.8438\n",
            "Epoch 47/100\n",
            "32/32 [==============================] - 0s 2ms/step - loss: 0.3372 - accuracy: 0.8768 - val_loss: 0.4808 - val_accuracy: 0.8438\n",
            "Epoch 48/100\n",
            "32/32 [==============================] - 0s 2ms/step - loss: 0.3424 - accuracy: 0.8651 - val_loss: 0.4769 - val_accuracy: 0.8398\n",
            "Epoch 49/100\n",
            "32/32 [==============================] - 0s 2ms/step - loss: 0.3356 - accuracy: 0.8700 - val_loss: 0.4790 - val_accuracy: 0.8438\n",
            "Epoch 50/100\n",
            "32/32 [==============================] - 0s 2ms/step - loss: 0.3350 - accuracy: 0.8671 - val_loss: 0.4745 - val_accuracy: 0.8438\n",
            "Epoch 51/100\n",
            "32/32 [==============================] - 0s 3ms/step - loss: 0.3366 - accuracy: 0.8749 - val_loss: 0.4831 - val_accuracy: 0.8438\n",
            "Epoch 52/100\n",
            "32/32 [==============================] - 0s 2ms/step - loss: 0.3371 - accuracy: 0.8612 - val_loss: 0.4821 - val_accuracy: 0.8398\n",
            "Epoch 53/100\n",
            "32/32 [==============================] - 0s 2ms/step - loss: 0.3385 - accuracy: 0.8710 - val_loss: 0.4873 - val_accuracy: 0.8438\n",
            "Epoch 54/100\n",
            "32/32 [==============================] - 0s 2ms/step - loss: 0.3413 - accuracy: 0.8739 - val_loss: 0.4831 - val_accuracy: 0.8438\n",
            "Epoch 55/100\n",
            "32/32 [==============================] - 0s 2ms/step - loss: 0.3375 - accuracy: 0.8671 - val_loss: 0.4813 - val_accuracy: 0.8438\n",
            "Epoch 56/100\n",
            "32/32 [==============================] - 0s 2ms/step - loss: 0.3307 - accuracy: 0.8690 - val_loss: 0.4801 - val_accuracy: 0.8359\n",
            "Epoch 57/100\n",
            "32/32 [==============================] - 0s 2ms/step - loss: 0.3317 - accuracy: 0.8719 - val_loss: 0.4883 - val_accuracy: 0.8438\n",
            "Epoch 58/100\n",
            "32/32 [==============================] - 0s 2ms/step - loss: 0.3314 - accuracy: 0.8612 - val_loss: 0.4970 - val_accuracy: 0.8438\n",
            "Epoch 59/100\n",
            "32/32 [==============================] - 0s 2ms/step - loss: 0.3284 - accuracy: 0.8759 - val_loss: 0.4905 - val_accuracy: 0.8398\n",
            "Epoch 60/100\n",
            "32/32 [==============================] - 0s 2ms/step - loss: 0.3230 - accuracy: 0.8778 - val_loss: 0.4880 - val_accuracy: 0.8320\n",
            "Epoch 61/100\n",
            "32/32 [==============================] - 0s 2ms/step - loss: 0.3232 - accuracy: 0.8739 - val_loss: 0.4907 - val_accuracy: 0.8359\n",
            "Epoch 62/100\n",
            "32/32 [==============================] - 0s 2ms/step - loss: 0.3295 - accuracy: 0.8768 - val_loss: 0.4906 - val_accuracy: 0.8320\n",
            "Epoch 63/100\n",
            "32/32 [==============================] - 0s 2ms/step - loss: 0.3275 - accuracy: 0.8631 - val_loss: 0.4920 - val_accuracy: 0.8359\n",
            "Epoch 64/100\n",
            "32/32 [==============================] - 0s 2ms/step - loss: 0.3283 - accuracy: 0.8641 - val_loss: 0.4955 - val_accuracy: 0.8359\n",
            "Epoch 65/100\n",
            "32/32 [==============================] - 0s 2ms/step - loss: 0.3250 - accuracy: 0.8690 - val_loss: 0.4955 - val_accuracy: 0.8359\n",
            "Epoch 66/100\n",
            "32/32 [==============================] - 0s 3ms/step - loss: 0.3290 - accuracy: 0.8759 - val_loss: 0.4940 - val_accuracy: 0.8398\n",
            "Epoch 67/100\n",
            "32/32 [==============================] - 0s 2ms/step - loss: 0.3203 - accuracy: 0.8778 - val_loss: 0.4903 - val_accuracy: 0.8359\n",
            "Epoch 68/100\n",
            "32/32 [==============================] - 0s 2ms/step - loss: 0.3152 - accuracy: 0.8798 - val_loss: 0.4930 - val_accuracy: 0.8398\n",
            "Epoch 69/100\n",
            "32/32 [==============================] - 0s 2ms/step - loss: 0.3198 - accuracy: 0.8768 - val_loss: 0.4941 - val_accuracy: 0.8359\n",
            "Epoch 70/100\n",
            "32/32 [==============================] - 0s 2ms/step - loss: 0.3259 - accuracy: 0.8710 - val_loss: 0.4927 - val_accuracy: 0.8359\n",
            "Epoch 71/100\n",
            "32/32 [==============================] - 0s 2ms/step - loss: 0.3209 - accuracy: 0.8729 - val_loss: 0.4993 - val_accuracy: 0.8398\n",
            "Epoch 72/100\n",
            "32/32 [==============================] - 0s 2ms/step - loss: 0.3232 - accuracy: 0.8690 - val_loss: 0.4996 - val_accuracy: 0.8320\n",
            "Epoch 73/100\n",
            "32/32 [==============================] - 0s 2ms/step - loss: 0.3189 - accuracy: 0.8768 - val_loss: 0.5065 - val_accuracy: 0.8359\n",
            "Epoch 74/100\n",
            "32/32 [==============================] - 0s 2ms/step - loss: 0.3103 - accuracy: 0.8798 - val_loss: 0.5019 - val_accuracy: 0.8398\n",
            "Epoch 75/100\n",
            "32/32 [==============================] - 0s 2ms/step - loss: 0.3157 - accuracy: 0.8827 - val_loss: 0.5073 - val_accuracy: 0.8398\n",
            "Epoch 76/100\n",
            "32/32 [==============================] - 0s 3ms/step - loss: 0.3179 - accuracy: 0.8749 - val_loss: 0.5021 - val_accuracy: 0.8359\n",
            "Epoch 77/100\n",
            "32/32 [==============================] - 0s 2ms/step - loss: 0.3045 - accuracy: 0.8798 - val_loss: 0.5071 - val_accuracy: 0.8359\n",
            "Epoch 78/100\n",
            "32/32 [==============================] - 0s 2ms/step - loss: 0.3138 - accuracy: 0.8798 - val_loss: 0.5054 - val_accuracy: 0.8359\n",
            "Epoch 79/100\n",
            "32/32 [==============================] - 0s 2ms/step - loss: 0.3114 - accuracy: 0.8817 - val_loss: 0.5123 - val_accuracy: 0.8359\n",
            "Epoch 80/100\n",
            "32/32 [==============================] - 0s 2ms/step - loss: 0.3207 - accuracy: 0.8651 - val_loss: 0.5065 - val_accuracy: 0.8320\n",
            "Epoch 81/100\n",
            "32/32 [==============================] - 0s 3ms/step - loss: 0.3123 - accuracy: 0.8710 - val_loss: 0.5159 - val_accuracy: 0.8398\n",
            "Epoch 82/100\n",
            "32/32 [==============================] - 0s 2ms/step - loss: 0.3100 - accuracy: 0.8759 - val_loss: 0.5026 - val_accuracy: 0.8477\n",
            "Epoch 83/100\n",
            "32/32 [==============================] - 0s 2ms/step - loss: 0.3096 - accuracy: 0.8788 - val_loss: 0.5135 - val_accuracy: 0.8398\n",
            "Epoch 84/100\n",
            "32/32 [==============================] - 0s 2ms/step - loss: 0.3021 - accuracy: 0.8837 - val_loss: 0.5158 - val_accuracy: 0.8359\n",
            "Epoch 85/100\n",
            "32/32 [==============================] - 0s 2ms/step - loss: 0.3120 - accuracy: 0.8788 - val_loss: 0.5225 - val_accuracy: 0.8359\n",
            "Epoch 86/100\n",
            "32/32 [==============================] - 0s 2ms/step - loss: 0.2997 - accuracy: 0.8847 - val_loss: 0.5207 - val_accuracy: 0.8359\n",
            "Epoch 87/100\n",
            "32/32 [==============================] - 0s 2ms/step - loss: 0.3027 - accuracy: 0.8807 - val_loss: 0.5163 - val_accuracy: 0.8398\n",
            "Epoch 88/100\n",
            "32/32 [==============================] - 0s 2ms/step - loss: 0.3057 - accuracy: 0.8886 - val_loss: 0.5190 - val_accuracy: 0.8320\n",
            "Epoch 89/100\n",
            "32/32 [==============================] - 0s 2ms/step - loss: 0.3078 - accuracy: 0.8827 - val_loss: 0.5209 - val_accuracy: 0.8359\n",
            "Epoch 90/100\n",
            "32/32 [==============================] - 0s 2ms/step - loss: 0.3062 - accuracy: 0.8798 - val_loss: 0.5227 - val_accuracy: 0.8477\n",
            "Epoch 91/100\n",
            "32/32 [==============================] - 0s 3ms/step - loss: 0.3050 - accuracy: 0.8807 - val_loss: 0.5302 - val_accuracy: 0.8438\n",
            "Epoch 92/100\n",
            "32/32 [==============================] - 0s 2ms/step - loss: 0.3048 - accuracy: 0.8817 - val_loss: 0.5288 - val_accuracy: 0.8398\n",
            "Epoch 93/100\n",
            "32/32 [==============================] - 0s 2ms/step - loss: 0.2938 - accuracy: 0.8856 - val_loss: 0.5299 - val_accuracy: 0.8359\n",
            "Epoch 94/100\n",
            "32/32 [==============================] - 0s 2ms/step - loss: 0.2992 - accuracy: 0.8866 - val_loss: 0.5263 - val_accuracy: 0.8359\n",
            "Epoch 95/100\n",
            "32/32 [==============================] - 0s 2ms/step - loss: 0.3124 - accuracy: 0.8788 - val_loss: 0.5328 - val_accuracy: 0.8359\n",
            "Epoch 96/100\n",
            "32/32 [==============================] - 0s 2ms/step - loss: 0.2899 - accuracy: 0.8837 - val_loss: 0.5296 - val_accuracy: 0.8320\n",
            "Epoch 97/100\n",
            "32/32 [==============================] - 0s 2ms/step - loss: 0.2935 - accuracy: 0.8895 - val_loss: 0.5364 - val_accuracy: 0.8398\n",
            "Epoch 98/100\n",
            "32/32 [==============================] - 0s 2ms/step - loss: 0.2960 - accuracy: 0.8935 - val_loss: 0.5322 - val_accuracy: 0.8359\n",
            "Epoch 99/100\n",
            "32/32 [==============================] - 0s 2ms/step - loss: 0.2946 - accuracy: 0.8739 - val_loss: 0.5338 - val_accuracy: 0.8477\n",
            "Epoch 100/100\n",
            "32/32 [==============================] - 0s 2ms/step - loss: 0.3015 - accuracy: 0.8837 - val_loss: 0.5379 - val_accuracy: 0.8438\n"
          ],
          "name": "stdout"
        }
      ]
    },
    {
      "cell_type": "markdown",
      "metadata": {
        "id": "kaKmztMuePW0",
        "colab_type": "text"
      },
      "source": [
        "# Evaluate the model"
      ]
    },
    {
      "cell_type": "markdown",
      "metadata": {
        "id": "IdulYXDKdkYR",
        "colab_type": "text"
      },
      "source": [
        "The following code gather details of the trained model"
      ]
    },
    {
      "cell_type": "code",
      "metadata": {
        "id": "uW6RbNJHRnEW",
        "colab_type": "code",
        "outputId": "7da6e3c1-392a-4f7c-a587-2ec96e31ff24",
        "colab": {
          "base_uri": "https://localhost:8080/",
          "height": 50
        }
      },
      "source": [
        "# Evaluate model with test data\n",
        "\n",
        "test_loss, test_acc = model.evaluate(normed_test_data, test_labels, verbose=2)\n",
        "# test_loss, test_acc = model.evaluate(test_dataset, test_labels, verbose=2)\n",
        "print('Test accuracy:', test_acc)"
      ],
      "execution_count": 28,
      "outputs": [
        {
          "output_type": "stream",
          "text": [
            "10/10 - 0s - loss: 0.4685 - accuracy: 0.8656\n",
            "Test accuracy: 0.8656250238418579\n"
          ],
          "name": "stdout"
        }
      ]
    },
    {
      "cell_type": "code",
      "metadata": {
        "id": "5CRnx7y2mUcM",
        "colab_type": "code",
        "colab": {}
      },
      "source": [
        "probability_model = tf.keras.Sequential([model, \n",
        "                                         tf.keras.layers.Softmax()])"
      ],
      "execution_count": 0,
      "outputs": []
    },
    {
      "cell_type": "code",
      "metadata": {
        "id": "T4dv4y8KnU5t",
        "colab_type": "code",
        "colab": {}
      },
      "source": [
        "predictions = probability_model.predict(\n",
        "    normed_test_data)\n",
        "# predictions"
      ],
      "execution_count": 0,
      "outputs": []
    },
    {
      "cell_type": "code",
      "metadata": {
        "id": "cgcasDLe2kiQ",
        "colab_type": "code",
        "colab": {}
      },
      "source": [
        "# test_labels"
      ],
      "execution_count": 0,
      "outputs": []
    },
    {
      "cell_type": "code",
      "metadata": {
        "id": "wmHcoYZL2frX",
        "colab_type": "code",
        "colab": {}
      },
      "source": [
        "# i = len(predictions)\n",
        "# np.argmax(predictions[i-1])"
      ],
      "execution_count": 0,
      "outputs": []
    },
    {
      "cell_type": "markdown",
      "metadata": {
        "id": "HdnlbPHjibm9",
        "colab_type": "text"
      },
      "source": [
        "# (Misc) Export model(s) to GDrive"
      ]
    },
    {
      "cell_type": "code",
      "metadata": {
        "id": "voLcTbF8VTmv",
        "colab_type": "code",
        "colab": {}
      },
      "source": [
        "checkpoint_path = \"/content/gdrive/My Drive/Trained_Models/wine_classifier/cp.ckpt\"\n",
        "checkpoint_dir = os.path.dirname(checkpoint_path)"
      ],
      "execution_count": 0,
      "outputs": []
    },
    {
      "cell_type": "code",
      "metadata": {
        "id": "Jzz9CnDBR_tm",
        "colab_type": "code",
        "colab": {}
      },
      "source": [
        "model.save_weights('/content/gdrive/My Drive/Trained_Models/wine_classifier/wine_binary_quality_model')"
      ],
      "execution_count": 0,
      "outputs": []
    },
    {
      "cell_type": "code",
      "metadata": {
        "id": "q4IiU2YUYKVG",
        "colab_type": "code",
        "colab": {}
      },
      "source": [
        "model_save_name = 'wine_binary_classifier'\n",
        "save_model_path = '/content/gdrive/My Drive/Trained_Models/wine_classifier'"
      ],
      "execution_count": 0,
      "outputs": []
    },
    {
      "cell_type": "code",
      "metadata": {
        "id": "YzSzH3Guaphn",
        "colab_type": "code",
        "colab": {}
      },
      "source": [
        "model.save(save_model_path)"
      ],
      "execution_count": 0,
      "outputs": []
    },
    {
      "cell_type": "code",
      "metadata": {
        "id": "omxZrC-bawOY",
        "colab_type": "code",
        "colab": {}
      },
      "source": [
        "model.save('/content/gdrive/My Drive/Trained_Models/wine_binary_classifier/wine_binary_classifier.h5') "
      ],
      "execution_count": 0,
      "outputs": []
    },
    {
      "cell_type": "code",
      "metadata": {
        "id": "Fh3NfZ1EbO3A",
        "colab_type": "code",
        "colab": {}
      },
      "source": [
        "converter = tf.lite.TFLiteConverter.from_saved_model(save_model_path)\n",
        "tflite_model = converter.convert()\n",
        "open(\"/content/gdrive/My Drive/Trained_Models/wine_binary_classifier/wine_binary_classifier.tflite\", \"wb\").write(tflite_model)"
      ],
      "execution_count": 0,
      "outputs": []
    }
  ]
}