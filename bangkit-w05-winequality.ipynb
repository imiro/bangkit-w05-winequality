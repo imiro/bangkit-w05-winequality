{
  "nbformat": 4,
  "nbformat_minor": 0,
  "metadata": {
    "colab": {
      "name": "Red Wine Quality - Bangkit w05 assignment",
      "provenance": [],
      "collapsed_sections": [],
      "toc_visible": true,
      "include_colab_link": true
    },
    "kernelspec": {
      "name": "python3",
      "display_name": "Python 3"
    }
  },
  "cells": [
    {
      "cell_type": "markdown",
      "metadata": {
        "id": "view-in-github",
        "colab_type": "text"
      },
      "source": [
        "<a href=\"https://colab.research.google.com/github/imiro/bangkit-w05-winequality/blob/notebook-refactor/bangkit-w05-winequality.ipynb\" target=\"_parent\"><img src=\"https://colab.research.google.com/assets/colab-badge.svg\" alt=\"Open In Colab\"/></a>"
      ]
    },
    {
      "cell_type": "markdown",
      "metadata": {
        "id": "AdRb9rEcXcaT",
        "colab_type": "text"
      },
      "source": [
        "# Preparation"
      ]
    },
    {
      "cell_type": "code",
      "metadata": {
        "id": "2zLDRC_UcLHO",
        "colab_type": "code",
        "outputId": "84e728ac-3b82-47cd-877b-6d71bed46b0c",
        "colab": {
          "base_uri": "https://localhost:8080/",
          "height": 34
        }
      },
      "source": [
        "!pip install -q git+https://github.com/tensorflow/docs"
      ],
      "execution_count": 1,
      "outputs": [
        {
          "output_type": "stream",
          "text": [
            "  Building wheel for tensorflow-docs (setup.py) ... \u001b[?25l\u001b[?25hdone\n"
          ],
          "name": "stdout"
        }
      ]
    },
    {
      "cell_type": "code",
      "metadata": {
        "id": "v6AA7tHqIBEr",
        "colab_type": "code",
        "cellView": "both",
        "colab": {
          "base_uri": "https://localhost:8080/",
          "height": 34
        },
        "outputId": "2b7c155d-6633-4fbf-945d-a0cc1e53108f"
      },
      "source": [
        "#@title Import statements\n",
        "#@content Tensorflow version\n",
        "\n",
        "import tensorflow as tf\n",
        "import numpy as np\n",
        "import pandas as pd\n",
        "from tensorflow import keras\n",
        "from tensorflow.keras import layers\n",
        "\n",
        "print(tf.__version__)\n",
        "\n",
        "import tensorflow_docs as tfdocs\n",
        "import tensorflow_docs.plots\n",
        "import tensorflow_docs.modeling"
      ],
      "execution_count": 2,
      "outputs": [
        {
          "output_type": "stream",
          "text": [
            "2.2.0-rc2\n"
          ],
          "name": "stdout"
        }
      ]
    },
    {
      "cell_type": "code",
      "metadata": {
        "id": "GHLUImwsXkXq",
        "colab_type": "code",
        "cellView": "both",
        "colab": {}
      },
      "source": [
        "#@title (Misc) GDrive integration\n",
        "import os\n",
        "from google.colab import drive\n",
        "drive.mount('/content/gdrive')"
      ],
      "execution_count": 0,
      "outputs": []
    },
    {
      "cell_type": "markdown",
      "metadata": {
        "id": "9sKNc6cJJPpl",
        "colab_type": "text"
      },
      "source": [
        "# Read dataset from CSV file"
      ]
    },
    {
      "cell_type": "code",
      "metadata": {
        "id": "yLwvNnfDKSIF",
        "colab_type": "code",
        "colab": {}
      },
      "source": [
        "url = 'https://raw.githubusercontent.com/imiro/bangkit-w05-winequality/master/datasets/winequality-red.csv'\n",
        "df = pd.read_csv(url, error_bad_lines=False)"
      ],
      "execution_count": 0,
      "outputs": []
    },
    {
      "cell_type": "markdown",
      "metadata": {
        "id": "LDkSnndYJZNL",
        "colab_type": "text"
      },
      "source": [
        "# Dataset characteristics"
      ]
    },
    {
      "cell_type": "code",
      "metadata": {
        "id": "MEQYeOeLKryu",
        "colab_type": "code",
        "cellView": "form",
        "colab": {}
      },
      "source": [
        "#@title Import plotting functions\n",
        "\n",
        "import matplotlib.pyplot as plt\n",
        "import seaborn as sns\n",
        "import pandas.util.testing as tm\n",
        "from collections import Counter"
      ],
      "execution_count": 0,
      "outputs": []
    },
    {
      "cell_type": "code",
      "metadata": {
        "id": "W5a6qxUjKbB-",
        "colab_type": "code",
        "colab": {}
      },
      "source": [
        "df.head(10)"
      ],
      "execution_count": 0,
      "outputs": []
    },
    {
      "cell_type": "markdown",
      "metadata": {
        "id": "vtmmqAvSX443",
        "colab_type": "text"
      },
      "source": [
        "Here we explore what our dataset has to offer."
      ]
    },
    {
      "cell_type": "code",
      "metadata": {
        "id": "pJELuKEDKd8u",
        "colab_type": "code",
        "colab": {}
      },
      "source": [
        "df.info()"
      ],
      "execution_count": 0,
      "outputs": []
    },
    {
      "cell_type": "code",
      "metadata": {
        "id": "2v4a0Lu-KlB_",
        "colab_type": "code",
        "colab": {}
      },
      "source": [
        "df.shape"
      ],
      "execution_count": 0,
      "outputs": []
    },
    {
      "cell_type": "code",
      "metadata": {
        "id": "bpOKfHBJKp45",
        "colab_type": "code",
        "colab": {}
      },
      "source": [
        "df.columns"
      ],
      "execution_count": 0,
      "outputs": []
    },
    {
      "cell_type": "code",
      "metadata": {
        "id": "DbrNIkgrKz0w",
        "colab_type": "code",
        "colab": {}
      },
      "source": [
        "Counter(df['quality'])"
      ],
      "execution_count": 0,
      "outputs": []
    },
    {
      "cell_type": "code",
      "metadata": {
        "id": "3liB4kk4LHOf",
        "colab_type": "code",
        "colab": {}
      },
      "source": [
        "sns.countplot(x='quality', data=df)"
      ],
      "execution_count": 0,
      "outputs": []
    },
    {
      "cell_type": "code",
      "metadata": {
        "id": "2ZfuyWj1K7zn",
        "colab_type": "code",
        "colab": {}
      },
      "source": [
        "sns.pairplot(df)"
      ],
      "execution_count": 0,
      "outputs": []
    },
    {
      "cell_type": "code",
      "metadata": {
        "id": "U0wnqKc4LN0D",
        "colab_type": "code",
        "colab": {}
      },
      "source": [
        "qualityString = []\n",
        "for i in df['quality'] :\n",
        "  if 0 <= i < 5 :\n",
        "    qualityString.append(0)\n",
        "  elif 5 <= i < 7 :\n",
        "    qualityString.append(1)\n",
        "  else :\n",
        "    qualityString.append(2)\n",
        "df['Rating'] = qualityString\n",
        "df['Rating2'] = df['quality'].copy()\n",
        "df['Rating2'].map(lambda x: 0 if x < 5 else 1 if x < 7 else 2)"
      ],
      "execution_count": 0,
      "outputs": []
    },
    {
      "cell_type": "code",
      "metadata": {
        "id": "Yg8bqjT8rQ45",
        "colab_type": "code",
        "colab": {}
      },
      "source": [
        "# df['Rating'] = df['Rating'].map({0: 'Bad', 1: 'Good'})\n",
        "# df = pd.get_dummies(df, prefix='', prefix_sep='')\n",
        "# df.tail()"
      ],
      "execution_count": 0,
      "outputs": []
    },
    {
      "cell_type": "code",
      "metadata": {
        "id": "RepYplfULvxg",
        "colab_type": "code",
        "outputId": "fb996a54-8c7b-44c8-a4e1-24cc59a84589",
        "colab": {
          "base_uri": "https://localhost:8080/",
          "height": 329
        }
      },
      "source": [
        "df.describe()"
      ],
      "execution_count": 0,
      "outputs": [
        {
          "output_type": "execute_result",
          "data": {
            "text/html": [
              "<div>\n",
              "<style scoped>\n",
              "    .dataframe tbody tr th:only-of-type {\n",
              "        vertical-align: middle;\n",
              "    }\n",
              "\n",
              "    .dataframe tbody tr th {\n",
              "        vertical-align: top;\n",
              "    }\n",
              "\n",
              "    .dataframe thead th {\n",
              "        text-align: right;\n",
              "    }\n",
              "</style>\n",
              "<table border=\"1\" class=\"dataframe\">\n",
              "  <thead>\n",
              "    <tr style=\"text-align: right;\">\n",
              "      <th></th>\n",
              "      <th>fixed acidity</th>\n",
              "      <th>volatile acidity</th>\n",
              "      <th>citric acid</th>\n",
              "      <th>residual sugar</th>\n",
              "      <th>chlorides</th>\n",
              "      <th>free sulfur dioxide</th>\n",
              "      <th>total sulfur dioxide</th>\n",
              "      <th>density</th>\n",
              "      <th>pH</th>\n",
              "      <th>sulphates</th>\n",
              "      <th>alcohol</th>\n",
              "      <th>quality</th>\n",
              "      <th>Rating</th>\n",
              "    </tr>\n",
              "  </thead>\n",
              "  <tbody>\n",
              "    <tr>\n",
              "      <th>count</th>\n",
              "      <td>1599.000000</td>\n",
              "      <td>1599.000000</td>\n",
              "      <td>1599.000000</td>\n",
              "      <td>1599.000000</td>\n",
              "      <td>1599.000000</td>\n",
              "      <td>1599.000000</td>\n",
              "      <td>1599.000000</td>\n",
              "      <td>1599.000000</td>\n",
              "      <td>1599.000000</td>\n",
              "      <td>1599.000000</td>\n",
              "      <td>1599.000000</td>\n",
              "      <td>1599.000000</td>\n",
              "      <td>1599.000000</td>\n",
              "    </tr>\n",
              "    <tr>\n",
              "      <th>mean</th>\n",
              "      <td>8.319637</td>\n",
              "      <td>0.527821</td>\n",
              "      <td>0.270976</td>\n",
              "      <td>2.538806</td>\n",
              "      <td>0.087467</td>\n",
              "      <td>15.874922</td>\n",
              "      <td>46.467792</td>\n",
              "      <td>0.996747</td>\n",
              "      <td>3.311113</td>\n",
              "      <td>0.658149</td>\n",
              "      <td>10.422983</td>\n",
              "      <td>5.636023</td>\n",
              "      <td>1.096310</td>\n",
              "    </tr>\n",
              "    <tr>\n",
              "      <th>std</th>\n",
              "      <td>1.741096</td>\n",
              "      <td>0.179060</td>\n",
              "      <td>0.194801</td>\n",
              "      <td>1.409928</td>\n",
              "      <td>0.047065</td>\n",
              "      <td>10.460157</td>\n",
              "      <td>32.895324</td>\n",
              "      <td>0.001887</td>\n",
              "      <td>0.154386</td>\n",
              "      <td>0.169507</td>\n",
              "      <td>1.065668</td>\n",
              "      <td>0.807569</td>\n",
              "      <td>0.407354</td>\n",
              "    </tr>\n",
              "    <tr>\n",
              "      <th>min</th>\n",
              "      <td>4.600000</td>\n",
              "      <td>0.120000</td>\n",
              "      <td>0.000000</td>\n",
              "      <td>0.900000</td>\n",
              "      <td>0.012000</td>\n",
              "      <td>1.000000</td>\n",
              "      <td>6.000000</td>\n",
              "      <td>0.990070</td>\n",
              "      <td>2.740000</td>\n",
              "      <td>0.330000</td>\n",
              "      <td>8.400000</td>\n",
              "      <td>3.000000</td>\n",
              "      <td>0.000000</td>\n",
              "    </tr>\n",
              "    <tr>\n",
              "      <th>25%</th>\n",
              "      <td>7.100000</td>\n",
              "      <td>0.390000</td>\n",
              "      <td>0.090000</td>\n",
              "      <td>1.900000</td>\n",
              "      <td>0.070000</td>\n",
              "      <td>7.000000</td>\n",
              "      <td>22.000000</td>\n",
              "      <td>0.995600</td>\n",
              "      <td>3.210000</td>\n",
              "      <td>0.550000</td>\n",
              "      <td>9.500000</td>\n",
              "      <td>5.000000</td>\n",
              "      <td>1.000000</td>\n",
              "    </tr>\n",
              "    <tr>\n",
              "      <th>50%</th>\n",
              "      <td>7.900000</td>\n",
              "      <td>0.520000</td>\n",
              "      <td>0.260000</td>\n",
              "      <td>2.200000</td>\n",
              "      <td>0.079000</td>\n",
              "      <td>14.000000</td>\n",
              "      <td>38.000000</td>\n",
              "      <td>0.996750</td>\n",
              "      <td>3.310000</td>\n",
              "      <td>0.620000</td>\n",
              "      <td>10.200000</td>\n",
              "      <td>6.000000</td>\n",
              "      <td>1.000000</td>\n",
              "    </tr>\n",
              "    <tr>\n",
              "      <th>75%</th>\n",
              "      <td>9.200000</td>\n",
              "      <td>0.640000</td>\n",
              "      <td>0.420000</td>\n",
              "      <td>2.600000</td>\n",
              "      <td>0.090000</td>\n",
              "      <td>21.000000</td>\n",
              "      <td>62.000000</td>\n",
              "      <td>0.997835</td>\n",
              "      <td>3.400000</td>\n",
              "      <td>0.730000</td>\n",
              "      <td>11.100000</td>\n",
              "      <td>6.000000</td>\n",
              "      <td>1.000000</td>\n",
              "    </tr>\n",
              "    <tr>\n",
              "      <th>max</th>\n",
              "      <td>15.900000</td>\n",
              "      <td>1.580000</td>\n",
              "      <td>1.000000</td>\n",
              "      <td>15.500000</td>\n",
              "      <td>0.611000</td>\n",
              "      <td>72.000000</td>\n",
              "      <td>289.000000</td>\n",
              "      <td>1.003690</td>\n",
              "      <td>4.010000</td>\n",
              "      <td>2.000000</td>\n",
              "      <td>14.900000</td>\n",
              "      <td>8.000000</td>\n",
              "      <td>2.000000</td>\n",
              "    </tr>\n",
              "  </tbody>\n",
              "</table>\n",
              "</div>"
            ],
            "text/plain": [
              "       fixed acidity  volatile acidity  ...      quality       Rating\n",
              "count    1599.000000       1599.000000  ...  1599.000000  1599.000000\n",
              "mean        8.319637          0.527821  ...     5.636023     1.096310\n",
              "std         1.741096          0.179060  ...     0.807569     0.407354\n",
              "min         4.600000          0.120000  ...     3.000000     0.000000\n",
              "25%         7.100000          0.390000  ...     5.000000     1.000000\n",
              "50%         7.900000          0.520000  ...     6.000000     1.000000\n",
              "75%         9.200000          0.640000  ...     6.000000     1.000000\n",
              "max        15.900000          1.580000  ...     8.000000     2.000000\n",
              "\n",
              "[8 rows x 13 columns]"
            ]
          },
          "metadata": {
            "tags": []
          },
          "execution_count": 56
        }
      ]
    },
    {
      "cell_type": "markdown",
      "metadata": {
        "id": "wEZFd-dqZZo9",
        "colab_type": "text"
      },
      "source": [
        "# Data Prep"
      ]
    },
    {
      "cell_type": "code",
      "metadata": {
        "id": "_dkEKRsaL1g2",
        "colab_type": "code",
        "outputId": "56edbdf4-4340-4df8-8c82-0a3fbfd56980",
        "colab": {
          "base_uri": "https://localhost:8080/",
          "height": 236
        }
      },
      "source": [
        "dataset = df.copy()\n",
        "dataset.pop(\"quality\")"
      ],
      "execution_count": 0,
      "outputs": [
        {
          "output_type": "execute_result",
          "data": {
            "text/plain": [
              "0       5\n",
              "1       5\n",
              "2       5\n",
              "3       6\n",
              "4       5\n",
              "       ..\n",
              "1594    5\n",
              "1595    6\n",
              "1596    6\n",
              "1597    5\n",
              "1598    6\n",
              "Name: quality, Length: 1599, dtype: int64"
            ]
          },
          "metadata": {
            "tags": []
          },
          "execution_count": 57
        }
      ]
    },
    {
      "cell_type": "markdown",
      "metadata": {
        "id": "U6e7v6w5Ziha",
        "colab_type": "text"
      },
      "source": [
        "## Create test data\n",
        "\n",
        "We don't have test data available as is from the source, so we have to create it from the data pool.\n",
        "\n",
        "We decided to train on 80% of the data, and make the rest 20% as the test data.\n",
        "\n",
        "To avoid bias, we divide the train and test data with random sampling."
      ]
    },
    {
      "cell_type": "code",
      "metadata": {
        "id": "vVe3751WMZLr",
        "colab_type": "code",
        "colab": {}
      },
      "source": [
        "train_dataset = dataset.sample(frac=0.8,random_state=0)\n",
        "test_dataset = dataset.drop(train_dataset.index)"
      ],
      "execution_count": 0,
      "outputs": []
    },
    {
      "cell_type": "code",
      "metadata": {
        "id": "EYvsjiJZM0W8",
        "colab_type": "code",
        "outputId": "6dd3dbdb-8ae4-4789-b37a-c76b345a9049",
        "colab": {
          "base_uri": "https://localhost:8080/",
          "height": 433
        }
      },
      "source": [
        "train_dataset"
      ],
      "execution_count": 0,
      "outputs": [
        {
          "output_type": "execute_result",
          "data": {
            "text/html": [
              "<div>\n",
              "<style scoped>\n",
              "    .dataframe tbody tr th:only-of-type {\n",
              "        vertical-align: middle;\n",
              "    }\n",
              "\n",
              "    .dataframe tbody tr th {\n",
              "        vertical-align: top;\n",
              "    }\n",
              "\n",
              "    .dataframe thead th {\n",
              "        text-align: right;\n",
              "    }\n",
              "</style>\n",
              "<table border=\"1\" class=\"dataframe\">\n",
              "  <thead>\n",
              "    <tr style=\"text-align: right;\">\n",
              "      <th></th>\n",
              "      <th>fixed acidity</th>\n",
              "      <th>volatile acidity</th>\n",
              "      <th>citric acid</th>\n",
              "      <th>residual sugar</th>\n",
              "      <th>chlorides</th>\n",
              "      <th>free sulfur dioxide</th>\n",
              "      <th>total sulfur dioxide</th>\n",
              "      <th>density</th>\n",
              "      <th>pH</th>\n",
              "      <th>sulphates</th>\n",
              "      <th>alcohol</th>\n",
              "      <th>Rating</th>\n",
              "    </tr>\n",
              "  </thead>\n",
              "  <tbody>\n",
              "    <tr>\n",
              "      <th>1109</th>\n",
              "      <td>10.8</td>\n",
              "      <td>0.470</td>\n",
              "      <td>0.43</td>\n",
              "      <td>2.10</td>\n",
              "      <td>0.171</td>\n",
              "      <td>27.0</td>\n",
              "      <td>66.0</td>\n",
              "      <td>0.99820</td>\n",
              "      <td>3.17</td>\n",
              "      <td>0.76</td>\n",
              "      <td>10.8</td>\n",
              "      <td>1</td>\n",
              "    </tr>\n",
              "    <tr>\n",
              "      <th>1032</th>\n",
              "      <td>8.1</td>\n",
              "      <td>0.820</td>\n",
              "      <td>0.00</td>\n",
              "      <td>4.10</td>\n",
              "      <td>0.095</td>\n",
              "      <td>5.0</td>\n",
              "      <td>14.0</td>\n",
              "      <td>0.99854</td>\n",
              "      <td>3.36</td>\n",
              "      <td>0.53</td>\n",
              "      <td>9.6</td>\n",
              "      <td>1</td>\n",
              "    </tr>\n",
              "    <tr>\n",
              "      <th>1002</th>\n",
              "      <td>9.1</td>\n",
              "      <td>0.290</td>\n",
              "      <td>0.33</td>\n",
              "      <td>2.05</td>\n",
              "      <td>0.063</td>\n",
              "      <td>13.0</td>\n",
              "      <td>27.0</td>\n",
              "      <td>0.99516</td>\n",
              "      <td>3.26</td>\n",
              "      <td>0.84</td>\n",
              "      <td>11.7</td>\n",
              "      <td>2</td>\n",
              "    </tr>\n",
              "    <tr>\n",
              "      <th>487</th>\n",
              "      <td>10.2</td>\n",
              "      <td>0.645</td>\n",
              "      <td>0.36</td>\n",
              "      <td>1.80</td>\n",
              "      <td>0.053</td>\n",
              "      <td>5.0</td>\n",
              "      <td>14.0</td>\n",
              "      <td>0.99820</td>\n",
              "      <td>3.17</td>\n",
              "      <td>0.42</td>\n",
              "      <td>10.0</td>\n",
              "      <td>1</td>\n",
              "    </tr>\n",
              "    <tr>\n",
              "      <th>979</th>\n",
              "      <td>12.2</td>\n",
              "      <td>0.450</td>\n",
              "      <td>0.49</td>\n",
              "      <td>1.40</td>\n",
              "      <td>0.075</td>\n",
              "      <td>3.0</td>\n",
              "      <td>6.0</td>\n",
              "      <td>0.99690</td>\n",
              "      <td>3.13</td>\n",
              "      <td>0.63</td>\n",
              "      <td>10.4</td>\n",
              "      <td>1</td>\n",
              "    </tr>\n",
              "    <tr>\n",
              "      <th>...</th>\n",
              "      <td>...</td>\n",
              "      <td>...</td>\n",
              "      <td>...</td>\n",
              "      <td>...</td>\n",
              "      <td>...</td>\n",
              "      <td>...</td>\n",
              "      <td>...</td>\n",
              "      <td>...</td>\n",
              "      <td>...</td>\n",
              "      <td>...</td>\n",
              "      <td>...</td>\n",
              "      <td>...</td>\n",
              "    </tr>\n",
              "    <tr>\n",
              "      <th>281</th>\n",
              "      <td>7.7</td>\n",
              "      <td>0.270</td>\n",
              "      <td>0.68</td>\n",
              "      <td>3.50</td>\n",
              "      <td>0.358</td>\n",
              "      <td>5.0</td>\n",
              "      <td>10.0</td>\n",
              "      <td>0.99720</td>\n",
              "      <td>3.25</td>\n",
              "      <td>1.08</td>\n",
              "      <td>9.9</td>\n",
              "      <td>2</td>\n",
              "    </tr>\n",
              "    <tr>\n",
              "      <th>932</th>\n",
              "      <td>7.6</td>\n",
              "      <td>0.400</td>\n",
              "      <td>0.29</td>\n",
              "      <td>1.90</td>\n",
              "      <td>0.078</td>\n",
              "      <td>29.0</td>\n",
              "      <td>66.0</td>\n",
              "      <td>0.99710</td>\n",
              "      <td>3.45</td>\n",
              "      <td>0.59</td>\n",
              "      <td>9.5</td>\n",
              "      <td>1</td>\n",
              "    </tr>\n",
              "    <tr>\n",
              "      <th>732</th>\n",
              "      <td>7.3</td>\n",
              "      <td>0.835</td>\n",
              "      <td>0.03</td>\n",
              "      <td>2.10</td>\n",
              "      <td>0.092</td>\n",
              "      <td>10.0</td>\n",
              "      <td>19.0</td>\n",
              "      <td>0.99660</td>\n",
              "      <td>3.39</td>\n",
              "      <td>0.47</td>\n",
              "      <td>9.6</td>\n",
              "      <td>1</td>\n",
              "    </tr>\n",
              "    <tr>\n",
              "      <th>715</th>\n",
              "      <td>7.2</td>\n",
              "      <td>0.490</td>\n",
              "      <td>0.18</td>\n",
              "      <td>2.70</td>\n",
              "      <td>0.069</td>\n",
              "      <td>13.0</td>\n",
              "      <td>34.0</td>\n",
              "      <td>0.99670</td>\n",
              "      <td>3.29</td>\n",
              "      <td>0.48</td>\n",
              "      <td>9.2</td>\n",
              "      <td>1</td>\n",
              "    </tr>\n",
              "    <tr>\n",
              "      <th>832</th>\n",
              "      <td>10.4</td>\n",
              "      <td>0.440</td>\n",
              "      <td>0.42</td>\n",
              "      <td>1.50</td>\n",
              "      <td>0.145</td>\n",
              "      <td>34.0</td>\n",
              "      <td>48.0</td>\n",
              "      <td>0.99832</td>\n",
              "      <td>3.38</td>\n",
              "      <td>0.86</td>\n",
              "      <td>9.9</td>\n",
              "      <td>0</td>\n",
              "    </tr>\n",
              "  </tbody>\n",
              "</table>\n",
              "<p>1279 rows × 12 columns</p>\n",
              "</div>"
            ],
            "text/plain": [
              "      fixed acidity  volatile acidity  citric acid  ...  sulphates  alcohol  Rating\n",
              "1109           10.8             0.470         0.43  ...       0.76     10.8       1\n",
              "1032            8.1             0.820         0.00  ...       0.53      9.6       1\n",
              "1002            9.1             0.290         0.33  ...       0.84     11.7       2\n",
              "487            10.2             0.645         0.36  ...       0.42     10.0       1\n",
              "979            12.2             0.450         0.49  ...       0.63     10.4       1\n",
              "...             ...               ...          ...  ...        ...      ...     ...\n",
              "281             7.7             0.270         0.68  ...       1.08      9.9       2\n",
              "932             7.6             0.400         0.29  ...       0.59      9.5       1\n",
              "732             7.3             0.835         0.03  ...       0.47      9.6       1\n",
              "715             7.2             0.490         0.18  ...       0.48      9.2       1\n",
              "832            10.4             0.440         0.42  ...       0.86      9.9       0\n",
              "\n",
              "[1279 rows x 12 columns]"
            ]
          },
          "metadata": {
            "tags": []
          },
          "execution_count": 60
        }
      ]
    },
    {
      "cell_type": "code",
      "metadata": {
        "id": "AzxODoPIOdQJ",
        "colab_type": "code",
        "outputId": "c7d4f905-7183-410c-b2b5-149ee46a13ac",
        "colab": {
          "base_uri": "https://localhost:8080/",
          "height": 405
        }
      },
      "source": [
        "train_stats = train_dataset.describe()\n",
        "train_stats.pop(\"Rating\")\n",
        "train_stats = train_stats.transpose()\n",
        "train_stats"
      ],
      "execution_count": 0,
      "outputs": [
        {
          "output_type": "execute_result",
          "data": {
            "text/html": [
              "<div>\n",
              "<style scoped>\n",
              "    .dataframe tbody tr th:only-of-type {\n",
              "        vertical-align: middle;\n",
              "    }\n",
              "\n",
              "    .dataframe tbody tr th {\n",
              "        vertical-align: top;\n",
              "    }\n",
              "\n",
              "    .dataframe thead th {\n",
              "        text-align: right;\n",
              "    }\n",
              "</style>\n",
              "<table border=\"1\" class=\"dataframe\">\n",
              "  <thead>\n",
              "    <tr style=\"text-align: right;\">\n",
              "      <th></th>\n",
              "      <th>count</th>\n",
              "      <th>mean</th>\n",
              "      <th>std</th>\n",
              "      <th>min</th>\n",
              "      <th>25%</th>\n",
              "      <th>50%</th>\n",
              "      <th>75%</th>\n",
              "      <th>max</th>\n",
              "    </tr>\n",
              "  </thead>\n",
              "  <tbody>\n",
              "    <tr>\n",
              "      <th>fixed acidity</th>\n",
              "      <td>1279.0</td>\n",
              "      <td>8.310164</td>\n",
              "      <td>1.744190</td>\n",
              "      <td>4.60000</td>\n",
              "      <td>7.1000</td>\n",
              "      <td>7.90000</td>\n",
              "      <td>9.250000</td>\n",
              "      <td>15.9000</td>\n",
              "    </tr>\n",
              "    <tr>\n",
              "      <th>volatile acidity</th>\n",
              "      <td>1279.0</td>\n",
              "      <td>0.525571</td>\n",
              "      <td>0.176645</td>\n",
              "      <td>0.12000</td>\n",
              "      <td>0.3900</td>\n",
              "      <td>0.52000</td>\n",
              "      <td>0.635000</td>\n",
              "      <td>1.5800</td>\n",
              "    </tr>\n",
              "    <tr>\n",
              "      <th>citric acid</th>\n",
              "      <td>1279.0</td>\n",
              "      <td>0.271618</td>\n",
              "      <td>0.196822</td>\n",
              "      <td>0.00000</td>\n",
              "      <td>0.0900</td>\n",
              "      <td>0.26000</td>\n",
              "      <td>0.430000</td>\n",
              "      <td>0.7900</td>\n",
              "    </tr>\n",
              "    <tr>\n",
              "      <th>residual sugar</th>\n",
              "      <td>1279.0</td>\n",
              "      <td>2.516341</td>\n",
              "      <td>1.300985</td>\n",
              "      <td>0.90000</td>\n",
              "      <td>1.9000</td>\n",
              "      <td>2.20000</td>\n",
              "      <td>2.600000</td>\n",
              "      <td>13.9000</td>\n",
              "    </tr>\n",
              "    <tr>\n",
              "      <th>chlorides</th>\n",
              "      <td>1279.0</td>\n",
              "      <td>0.087347</td>\n",
              "      <td>0.045666</td>\n",
              "      <td>0.01200</td>\n",
              "      <td>0.0710</td>\n",
              "      <td>0.07900</td>\n",
              "      <td>0.091000</td>\n",
              "      <td>0.6110</td>\n",
              "    </tr>\n",
              "    <tr>\n",
              "      <th>free sulfur dioxide</th>\n",
              "      <td>1279.0</td>\n",
              "      <td>15.868647</td>\n",
              "      <td>10.438880</td>\n",
              "      <td>1.00000</td>\n",
              "      <td>7.0000</td>\n",
              "      <td>14.00000</td>\n",
              "      <td>21.000000</td>\n",
              "      <td>72.0000</td>\n",
              "    </tr>\n",
              "    <tr>\n",
              "      <th>total sulfur dioxide</th>\n",
              "      <td>1279.0</td>\n",
              "      <td>46.488663</td>\n",
              "      <td>32.952841</td>\n",
              "      <td>6.00000</td>\n",
              "      <td>22.0000</td>\n",
              "      <td>38.00000</td>\n",
              "      <td>62.000000</td>\n",
              "      <td>289.0000</td>\n",
              "    </tr>\n",
              "    <tr>\n",
              "      <th>density</th>\n",
              "      <td>1279.0</td>\n",
              "      <td>0.996739</td>\n",
              "      <td>0.001888</td>\n",
              "      <td>0.99007</td>\n",
              "      <td>0.9956</td>\n",
              "      <td>0.99676</td>\n",
              "      <td>0.997855</td>\n",
              "      <td>1.0032</td>\n",
              "    </tr>\n",
              "    <tr>\n",
              "      <th>pH</th>\n",
              "      <td>1279.0</td>\n",
              "      <td>3.312588</td>\n",
              "      <td>0.153923</td>\n",
              "      <td>2.87000</td>\n",
              "      <td>3.2100</td>\n",
              "      <td>3.31000</td>\n",
              "      <td>3.400000</td>\n",
              "      <td>4.0100</td>\n",
              "    </tr>\n",
              "    <tr>\n",
              "      <th>sulphates</th>\n",
              "      <td>1279.0</td>\n",
              "      <td>0.655012</td>\n",
              "      <td>0.160192</td>\n",
              "      <td>0.33000</td>\n",
              "      <td>0.5500</td>\n",
              "      <td>0.62000</td>\n",
              "      <td>0.730000</td>\n",
              "      <td>1.9800</td>\n",
              "    </tr>\n",
              "    <tr>\n",
              "      <th>alcohol</th>\n",
              "      <td>1279.0</td>\n",
              "      <td>10.436317</td>\n",
              "      <td>1.084177</td>\n",
              "      <td>8.40000</td>\n",
              "      <td>9.5000</td>\n",
              "      <td>10.20000</td>\n",
              "      <td>11.100000</td>\n",
              "      <td>14.9000</td>\n",
              "    </tr>\n",
              "  </tbody>\n",
              "</table>\n",
              "</div>"
            ],
            "text/plain": [
              "                       count       mean  ...        75%       max\n",
              "fixed acidity         1279.0   8.310164  ...   9.250000   15.9000\n",
              "volatile acidity      1279.0   0.525571  ...   0.635000    1.5800\n",
              "citric acid           1279.0   0.271618  ...   0.430000    0.7900\n",
              "residual sugar        1279.0   2.516341  ...   2.600000   13.9000\n",
              "chlorides             1279.0   0.087347  ...   0.091000    0.6110\n",
              "free sulfur dioxide   1279.0  15.868647  ...  21.000000   72.0000\n",
              "total sulfur dioxide  1279.0  46.488663  ...  62.000000  289.0000\n",
              "density               1279.0   0.996739  ...   0.997855    1.0032\n",
              "pH                    1279.0   3.312588  ...   3.400000    4.0100\n",
              "sulphates             1279.0   0.655012  ...   0.730000    1.9800\n",
              "alcohol               1279.0  10.436317  ...  11.100000   14.9000\n",
              "\n",
              "[11 rows x 8 columns]"
            ]
          },
          "metadata": {
            "tags": []
          },
          "execution_count": 62
        }
      ]
    },
    {
      "cell_type": "markdown",
      "metadata": {
        "id": "by4O7LwBbZ3I",
        "colab_type": "text"
      },
      "source": [
        "## Separate label and features"
      ]
    },
    {
      "cell_type": "code",
      "metadata": {
        "id": "ykajF4IlOxzl",
        "colab_type": "code",
        "colab": {}
      },
      "source": [
        "train_labels = train_dataset.pop('Rating')\n",
        "test_labels = test_dataset.pop('Rating')"
      ],
      "execution_count": 0,
      "outputs": []
    },
    {
      "cell_type": "markdown",
      "metadata": {
        "id": "14YkzzfWbhD6",
        "colab_type": "text"
      },
      "source": [
        "## Normalize data\n",
        "\n",
        "Earlier on descriptions of dataset characteristic, we see that range of the data varies.\n",
        "\n",
        "For example, values of `fixed acidity` ranges from `4.6 - 15.9`, while `total sulfur dioxide` has a range of `6-62`. Meanwhile, `pH` values only range from `2.74` to `4.01`.\n",
        "\n",
        "We fear that this can cause  issues when training the model. Therefore, we convert each value of the features to its Z-score."
      ]
    },
    {
      "cell_type": "code",
      "metadata": {
        "id": "59xszrYNO-O6",
        "colab_type": "code",
        "colab": {}
      },
      "source": [
        "def norm(x):\n",
        "  return (x - train_stats['mean']) / train_stats['std']\n",
        "normed_train_data = norm(train_dataset)\n",
        "normed_test_data = norm(test_dataset)"
      ],
      "execution_count": 0,
      "outputs": []
    },
    {
      "cell_type": "code",
      "metadata": {
        "id": "dAVEG0_Wz8OS",
        "colab_type": "code",
        "outputId": "f8457b88-ef39-4537-ae5f-61a810178e87",
        "colab": {
          "base_uri": "https://localhost:8080/",
          "height": 54
        }
      },
      "source": [
        "train_labels.shape"
      ],
      "execution_count": 0,
      "outputs": [
        {
          "output_type": "execute_result",
          "data": {
            "text/plain": [
              "(1279,)"
            ]
          },
          "metadata": {
            "tags": []
          },
          "execution_count": 65
        }
      ]
    },
    {
      "cell_type": "markdown",
      "metadata": {
        "id": "AtjCegEZdBh1",
        "colab_type": "text"
      },
      "source": [
        "# Define function that build model"
      ]
    },
    {
      "cell_type": "code",
      "metadata": {
        "id": "AKniqgcQPCqn",
        "colab_type": "code",
        "colab": {}
      },
      "source": [
        "def build_model(my_learning_rate):\n",
        "  model = keras.Sequential([\n",
        "    layers.Flatten(input_shape=[(len(train_dataset.keys()))]),\n",
        "    layers.Dense(128, activation='relu'),\n",
        "    tf.keras.layers.Dropout(0.2),\n",
        "    layers.Dense(3),\n",
        "  ])\n",
        "\n",
        "  optimizer = tf.keras.optimizers.Adam(learning_rate=my_learning_rate)\n",
        "\n",
        "  model.compile(optimizer=optimizer,\n",
        "              # loss='binary_crossentropy',\n",
        "              # loss=tf.keras.losses.BinaryCrossentropy(from_logits=True),\n",
        "              loss=tf.losses.SparseCategoricalCrossentropy(from_logits=True),\n",
        "              metrics=['accuracy'])\n",
        "  return model"
      ],
      "execution_count": 0,
      "outputs": []
    },
    {
      "cell_type": "code",
      "metadata": {
        "id": "QgFcsR4EQWMo",
        "colab_type": "code",
        "colab": {}
      },
      "source": [
        "# example_batch = normed_train_data[:10]\n",
        "# example_result = model.predict(example_batch)\n",
        "# example_result"
      ],
      "execution_count": 0,
      "outputs": []
    },
    {
      "cell_type": "markdown",
      "metadata": {
        "id": "vsNPVT1XhxcR",
        "colab_type": "text"
      },
      "source": [
        "# Set hyperparameters"
      ]
    },
    {
      "cell_type": "code",
      "metadata": {
        "id": "cjslz2uGh0KP",
        "colab_type": "code",
        "colab": {}
      },
      "source": [
        "EPOCHS = 100\n",
        "learning_rate = 0.01"
      ],
      "execution_count": 0,
      "outputs": []
    },
    {
      "cell_type": "markdown",
      "metadata": {
        "id": "gpJ2EcuudK3v",
        "colab_type": "text"
      },
      "source": [
        "# Build and train the model"
      ]
    },
    {
      "cell_type": "code",
      "metadata": {
        "id": "iV431QHuPzJM",
        "colab_type": "code",
        "outputId": "7e9fa2a4-a73b-4d83-a38f-704f380f1024",
        "colab": {
          "base_uri": "https://localhost:8080/",
          "height": 302
        }
      },
      "source": [
        "model = build_model(learning_rate)\n",
        "model.summary()"
      ],
      "execution_count": 0,
      "outputs": [
        {
          "output_type": "stream",
          "text": [
            "Model: \"sequential_2\"\n",
            "_________________________________________________________________\n",
            "Layer (type)                 Output Shape              Param #   \n",
            "=================================================================\n",
            "flatten_1 (Flatten)          (None, 11)                0         \n",
            "_________________________________________________________________\n",
            "dense_2 (Dense)              (None, 128)               1536      \n",
            "_________________________________________________________________\n",
            "dropout (Dropout)            (None, 128)               0         \n",
            "_________________________________________________________________\n",
            "dense_3 (Dense)              (None, 3)                 387       \n",
            "=================================================================\n",
            "Total params: 1,923\n",
            "Trainable params: 1,923\n",
            "Non-trainable params: 0\n",
            "_________________________________________________________________\n"
          ],
          "name": "stdout"
        }
      ]
    },
    {
      "cell_type": "code",
      "metadata": {
        "id": "pkUAxwfeQcMS",
        "colab_type": "code",
        "outputId": "583c4cdf-9422-4a8d-d504-cbb222529ba9",
        "colab": {
          "base_uri": "https://localhost:8080/",
          "height": 1000
        }
      },
      "source": [
        "checkpoint_path = \"/content/gdrive/My Drive/Trained_Models/wine_binary_quality/wine_binary_quality.ckpt\"\n",
        "checkpoint_dir = os.path.dirname(checkpoint_path)\n",
        "\n",
        "cp_callback = tf.keras.callbacks.ModelCheckpoint(filepath=checkpoint_path,\n",
        "                                                 save_weights_only=True,\n",
        "                                                 verbose=1)\n",
        "history = model.fit(\n",
        "  normed_train_data, train_labels,\n",
        "  # train_dataset, train_labels,\n",
        "  epochs=EPOCHS, \n",
        "  # validation_split = 0.2, \n",
        "  # verbose=0,\n",
        "  # callbacks=[cp_callback])\n",
        "  # callbacks=[tfdocs.modeling.EpochDots()])\n",
        "  # batch_size=1\n",
        "  )"
      ],
      "execution_count": 0,
      "outputs": [
        {
          "output_type": "stream",
          "text": [
            "Epoch 1/100\n",
            "40/40 [==============================] - 0s 1ms/step - loss: 0.5498 - accuracy: 0.8233\n",
            "Epoch 2/100\n",
            "40/40 [==============================] - 0s 1ms/step - loss: 0.4429 - accuracy: 0.8296\n",
            "Epoch 3/100\n",
            "40/40 [==============================] - 0s 1ms/step - loss: 0.4382 - accuracy: 0.8350\n",
            "Epoch 4/100\n",
            "40/40 [==============================] - 0s 1ms/step - loss: 0.4019 - accuracy: 0.8468\n",
            "Epoch 5/100\n",
            "40/40 [==============================] - 0s 1ms/step - loss: 0.4092 - accuracy: 0.8436\n",
            "Epoch 6/100\n",
            "40/40 [==============================] - 0s 1ms/step - loss: 0.3898 - accuracy: 0.8460\n",
            "Epoch 7/100\n",
            "40/40 [==============================] - 0s 1ms/step - loss: 0.3941 - accuracy: 0.8468\n",
            "Epoch 8/100\n",
            "40/40 [==============================] - 0s 1ms/step - loss: 0.3961 - accuracy: 0.8475\n",
            "Epoch 9/100\n",
            "40/40 [==============================] - 0s 1ms/step - loss: 0.3804 - accuracy: 0.8436\n",
            "Epoch 10/100\n",
            "40/40 [==============================] - 0s 2ms/step - loss: 0.3827 - accuracy: 0.8483\n",
            "Epoch 11/100\n",
            "40/40 [==============================] - 0s 1ms/step - loss: 0.3660 - accuracy: 0.8538\n",
            "Epoch 12/100\n",
            "40/40 [==============================] - 0s 1ms/step - loss: 0.3697 - accuracy: 0.8522\n",
            "Epoch 13/100\n",
            "40/40 [==============================] - 0s 1ms/step - loss: 0.3781 - accuracy: 0.8483\n",
            "Epoch 14/100\n",
            "40/40 [==============================] - 0s 1ms/step - loss: 0.3538 - accuracy: 0.8514\n",
            "Epoch 15/100\n",
            "40/40 [==============================] - 0s 1ms/step - loss: 0.3639 - accuracy: 0.8561\n",
            "Epoch 16/100\n",
            "40/40 [==============================] - 0s 1ms/step - loss: 0.3536 - accuracy: 0.8538\n",
            "Epoch 17/100\n",
            "40/40 [==============================] - 0s 1ms/step - loss: 0.3475 - accuracy: 0.8640\n",
            "Epoch 18/100\n",
            "40/40 [==============================] - 0s 1ms/step - loss: 0.3601 - accuracy: 0.8577\n",
            "Epoch 19/100\n",
            "40/40 [==============================] - 0s 1ms/step - loss: 0.3306 - accuracy: 0.8679\n",
            "Epoch 20/100\n",
            "40/40 [==============================] - 0s 2ms/step - loss: 0.3475 - accuracy: 0.8561\n",
            "Epoch 21/100\n",
            "40/40 [==============================] - 0s 1ms/step - loss: 0.3318 - accuracy: 0.8757\n",
            "Epoch 22/100\n",
            "40/40 [==============================] - 0s 1ms/step - loss: 0.3222 - accuracy: 0.8749\n",
            "Epoch 23/100\n",
            "40/40 [==============================] - 0s 1ms/step - loss: 0.3366 - accuracy: 0.8616\n",
            "Epoch 24/100\n",
            "40/40 [==============================] - 0s 1ms/step - loss: 0.3463 - accuracy: 0.8585\n",
            "Epoch 25/100\n",
            "40/40 [==============================] - 0s 1ms/step - loss: 0.3286 - accuracy: 0.8671\n",
            "Epoch 26/100\n",
            "40/40 [==============================] - 0s 1ms/step - loss: 0.3159 - accuracy: 0.8726\n",
            "Epoch 27/100\n",
            "40/40 [==============================] - 0s 2ms/step - loss: 0.3293 - accuracy: 0.8733\n",
            "Epoch 28/100\n",
            "40/40 [==============================] - 0s 1ms/step - loss: 0.3278 - accuracy: 0.8671\n",
            "Epoch 29/100\n",
            "40/40 [==============================] - 0s 2ms/step - loss: 0.3152 - accuracy: 0.8749\n",
            "Epoch 30/100\n",
            "40/40 [==============================] - 0s 1ms/step - loss: 0.3089 - accuracy: 0.8741\n",
            "Epoch 31/100\n",
            "40/40 [==============================] - 0s 2ms/step - loss: 0.2964 - accuracy: 0.8702\n",
            "Epoch 32/100\n",
            "40/40 [==============================] - 0s 1ms/step - loss: 0.3175 - accuracy: 0.8694\n",
            "Epoch 33/100\n",
            "40/40 [==============================] - 0s 1ms/step - loss: 0.3270 - accuracy: 0.8702\n",
            "Epoch 34/100\n",
            "40/40 [==============================] - 0s 1ms/step - loss: 0.3070 - accuracy: 0.8788\n",
            "Epoch 35/100\n",
            "40/40 [==============================] - 0s 1ms/step - loss: 0.2882 - accuracy: 0.8772\n",
            "Epoch 36/100\n",
            "40/40 [==============================] - 0s 1ms/step - loss: 0.3140 - accuracy: 0.8702\n",
            "Epoch 37/100\n",
            "40/40 [==============================] - 0s 1ms/step - loss: 0.2961 - accuracy: 0.8812\n",
            "Epoch 38/100\n",
            "40/40 [==============================] - 0s 1ms/step - loss: 0.2773 - accuracy: 0.8835\n",
            "Epoch 39/100\n",
            "40/40 [==============================] - 0s 1ms/step - loss: 0.2962 - accuracy: 0.8788\n",
            "Epoch 40/100\n",
            "40/40 [==============================] - 0s 2ms/step - loss: 0.2912 - accuracy: 0.8851\n",
            "Epoch 41/100\n",
            "40/40 [==============================] - 0s 1ms/step - loss: 0.3037 - accuracy: 0.8726\n",
            "Epoch 42/100\n",
            "40/40 [==============================] - 0s 1ms/step - loss: 0.2796 - accuracy: 0.8843\n",
            "Epoch 43/100\n",
            "40/40 [==============================] - 0s 2ms/step - loss: 0.2734 - accuracy: 0.8890\n",
            "Epoch 44/100\n",
            "40/40 [==============================] - 0s 1ms/step - loss: 0.2669 - accuracy: 0.8929\n",
            "Epoch 45/100\n",
            "40/40 [==============================] - 0s 1ms/step - loss: 0.2607 - accuracy: 0.8905\n",
            "Epoch 46/100\n",
            "40/40 [==============================] - 0s 1ms/step - loss: 0.2627 - accuracy: 0.9007\n",
            "Epoch 47/100\n",
            "40/40 [==============================] - 0s 2ms/step - loss: 0.2701 - accuracy: 0.8921\n",
            "Epoch 48/100\n",
            "40/40 [==============================] - 0s 1ms/step - loss: 0.2739 - accuracy: 0.8921\n",
            "Epoch 49/100\n",
            "40/40 [==============================] - 0s 1ms/step - loss: 0.2889 - accuracy: 0.8749\n",
            "Epoch 50/100\n",
            "40/40 [==============================] - 0s 1ms/step - loss: 0.2587 - accuracy: 0.8913\n",
            "Epoch 51/100\n",
            "40/40 [==============================] - 0s 2ms/step - loss: 0.2738 - accuracy: 0.8866\n",
            "Epoch 52/100\n",
            "40/40 [==============================] - 0s 2ms/step - loss: 0.2564 - accuracy: 0.8944\n",
            "Epoch 53/100\n",
            "40/40 [==============================] - 0s 2ms/step - loss: 0.2579 - accuracy: 0.8984\n",
            "Epoch 54/100\n",
            "40/40 [==============================] - 0s 1ms/step - loss: 0.2567 - accuracy: 0.8866\n",
            "Epoch 55/100\n",
            "40/40 [==============================] - 0s 1ms/step - loss: 0.2725 - accuracy: 0.8874\n",
            "Epoch 56/100\n",
            "40/40 [==============================] - 0s 1ms/step - loss: 0.2469 - accuracy: 0.8952\n",
            "Epoch 57/100\n",
            "40/40 [==============================] - 0s 1ms/step - loss: 0.2392 - accuracy: 0.9038\n",
            "Epoch 58/100\n",
            "40/40 [==============================] - 0s 1ms/step - loss: 0.2435 - accuracy: 0.8991\n",
            "Epoch 59/100\n",
            "40/40 [==============================] - 0s 1ms/step - loss: 0.2487 - accuracy: 0.9030\n",
            "Epoch 60/100\n",
            "40/40 [==============================] - 0s 1ms/step - loss: 0.2408 - accuracy: 0.9054\n",
            "Epoch 61/100\n",
            "40/40 [==============================] - 0s 2ms/step - loss: 0.2591 - accuracy: 0.8851\n",
            "Epoch 62/100\n",
            "40/40 [==============================] - 0s 2ms/step - loss: 0.2591 - accuracy: 0.9038\n",
            "Epoch 63/100\n",
            "40/40 [==============================] - 0s 1ms/step - loss: 0.2617 - accuracy: 0.8921\n",
            "Epoch 64/100\n",
            "40/40 [==============================] - 0s 1ms/step - loss: 0.2459 - accuracy: 0.9030\n",
            "Epoch 65/100\n",
            "40/40 [==============================] - 0s 1ms/step - loss: 0.2383 - accuracy: 0.8991\n",
            "Epoch 66/100\n",
            "40/40 [==============================] - 0s 1ms/step - loss: 0.2460 - accuracy: 0.9101\n",
            "Epoch 67/100\n",
            "40/40 [==============================] - 0s 1ms/step - loss: 0.2526 - accuracy: 0.8976\n",
            "Epoch 68/100\n",
            "40/40 [==============================] - 0s 1ms/step - loss: 0.2319 - accuracy: 0.8999\n",
            "Epoch 69/100\n",
            "40/40 [==============================] - 0s 1ms/step - loss: 0.2320 - accuracy: 0.9046\n",
            "Epoch 70/100\n",
            "40/40 [==============================] - 0s 1ms/step - loss: 0.2413 - accuracy: 0.8991\n",
            "Epoch 71/100\n",
            "40/40 [==============================] - 0s 1ms/step - loss: 0.2282 - accuracy: 0.9077\n",
            "Epoch 72/100\n",
            "40/40 [==============================] - 0s 1ms/step - loss: 0.2278 - accuracy: 0.8976\n",
            "Epoch 73/100\n",
            "40/40 [==============================] - 0s 1ms/step - loss: 0.2349 - accuracy: 0.8984\n",
            "Epoch 74/100\n",
            "40/40 [==============================] - 0s 1ms/step - loss: 0.2273 - accuracy: 0.8991\n",
            "Epoch 75/100\n",
            "40/40 [==============================] - 0s 2ms/step - loss: 0.2131 - accuracy: 0.9070\n",
            "Epoch 76/100\n",
            "40/40 [==============================] - 0s 1ms/step - loss: 0.2223 - accuracy: 0.9054\n",
            "Epoch 77/100\n",
            "40/40 [==============================] - 0s 1ms/step - loss: 0.2299 - accuracy: 0.8952\n",
            "Epoch 78/100\n",
            "40/40 [==============================] - 0s 1ms/step - loss: 0.2505 - accuracy: 0.9007\n",
            "Epoch 79/100\n",
            "40/40 [==============================] - 0s 1ms/step - loss: 0.2425 - accuracy: 0.9156\n",
            "Epoch 80/100\n",
            "40/40 [==============================] - 0s 1ms/step - loss: 0.2169 - accuracy: 0.9077\n",
            "Epoch 81/100\n",
            "40/40 [==============================] - 0s 1ms/step - loss: 0.2238 - accuracy: 0.9148\n",
            "Epoch 82/100\n",
            "40/40 [==============================] - 0s 1ms/step - loss: 0.2156 - accuracy: 0.9140\n",
            "Epoch 83/100\n",
            "40/40 [==============================] - 0s 1ms/step - loss: 0.2310 - accuracy: 0.9109\n",
            "Epoch 84/100\n",
            "40/40 [==============================] - 0s 1ms/step - loss: 0.2151 - accuracy: 0.9124\n",
            "Epoch 85/100\n",
            "40/40 [==============================] - 0s 1ms/step - loss: 0.2339 - accuracy: 0.9070\n",
            "Epoch 86/100\n",
            "40/40 [==============================] - 0s 1ms/step - loss: 0.2149 - accuracy: 0.9054\n",
            "Epoch 87/100\n",
            "40/40 [==============================] - 0s 1ms/step - loss: 0.2198 - accuracy: 0.9093\n",
            "Epoch 88/100\n",
            "40/40 [==============================] - 0s 1ms/step - loss: 0.2175 - accuracy: 0.9101\n",
            "Epoch 89/100\n",
            "40/40 [==============================] - 0s 1ms/step - loss: 0.1905 - accuracy: 0.9195\n",
            "Epoch 90/100\n",
            "40/40 [==============================] - 0s 1ms/step - loss: 0.1972 - accuracy: 0.9203\n",
            "Epoch 91/100\n",
            "40/40 [==============================] - 0s 1ms/step - loss: 0.1914 - accuracy: 0.9249\n",
            "Epoch 92/100\n",
            "40/40 [==============================] - 0s 2ms/step - loss: 0.2022 - accuracy: 0.9148\n",
            "Epoch 93/100\n",
            "40/40 [==============================] - 0s 1ms/step - loss: 0.2223 - accuracy: 0.9116\n",
            "Epoch 94/100\n",
            "40/40 [==============================] - 0s 1ms/step - loss: 0.2179 - accuracy: 0.9148\n",
            "Epoch 95/100\n",
            "40/40 [==============================] - 0s 1ms/step - loss: 0.2441 - accuracy: 0.9077\n",
            "Epoch 96/100\n",
            "40/40 [==============================] - 0s 1ms/step - loss: 0.2126 - accuracy: 0.9077\n",
            "Epoch 97/100\n",
            "40/40 [==============================] - 0s 1ms/step - loss: 0.1872 - accuracy: 0.9179\n",
            "Epoch 98/100\n",
            "40/40 [==============================] - 0s 1ms/step - loss: 0.2204 - accuracy: 0.9124\n",
            "Epoch 99/100\n",
            "40/40 [==============================] - 0s 1ms/step - loss: 0.2141 - accuracy: 0.9140\n",
            "Epoch 100/100\n",
            "40/40 [==============================] - 0s 1ms/step - loss: 0.2156 - accuracy: 0.9077\n"
          ],
          "name": "stdout"
        }
      ]
    },
    {
      "cell_type": "code",
      "metadata": {
        "id": "uW6RbNJHRnEW",
        "colab_type": "code",
        "outputId": "0152a475-c516-43bc-ff46-b4904946c148",
        "colab": {
          "base_uri": "https://localhost:8080/",
          "height": 71
        }
      },
      "source": [
        "test_loss, test_acc = model.evaluate(normed_test_data, test_labels, verbose=2)\n",
        "# test_loss, test_acc = model.evaluate(test_dataset, test_labels, verbose=2)\n",
        "print('Test accuracy:', test_acc)"
      ],
      "execution_count": 0,
      "outputs": [
        {
          "output_type": "stream",
          "text": [
            "10/10 - 0s - loss: 1.1818 - accuracy: 0.8656\n",
            "Test accuracy: 0.8656250238418579\n"
          ],
          "name": "stdout"
        }
      ]
    },
    {
      "cell_type": "code",
      "metadata": {
        "id": "5CRnx7y2mUcM",
        "colab_type": "code",
        "colab": {}
      },
      "source": [
        "probability_model = tf.keras.Sequential([model, \n",
        "                                         tf.keras.layers.Softmax()])"
      ],
      "execution_count": 0,
      "outputs": []
    },
    {
      "cell_type": "code",
      "metadata": {
        "id": "T4dv4y8KnU5t",
        "colab_type": "code",
        "colab": {}
      },
      "source": [
        "predictions = probability_model.predict(\n",
        "    normed_test_data)\n",
        "# predictions"
      ],
      "execution_count": 0,
      "outputs": []
    },
    {
      "cell_type": "code",
      "metadata": {
        "id": "cgcasDLe2kiQ",
        "colab_type": "code",
        "colab": {}
      },
      "source": [
        "test_labels"
      ],
      "execution_count": 0,
      "outputs": []
    },
    {
      "cell_type": "code",
      "metadata": {
        "id": "wmHcoYZL2frX",
        "colab_type": "code",
        "outputId": "3331fc66-4299-4d7f-b95b-58261cafa96d",
        "colab": {
          "base_uri": "https://localhost:8080/",
          "height": 54
        }
      },
      "source": [
        "i = len(predictions)\n",
        "np.argmax(predictions[i-1])"
      ],
      "execution_count": 0,
      "outputs": [
        {
          "output_type": "execute_result",
          "data": {
            "text/plain": [
              "1"
            ]
          },
          "metadata": {
            "tags": []
          },
          "execution_count": 74
        }
      ]
    },
    {
      "cell_type": "markdown",
      "metadata": {
        "id": "HdnlbPHjibm9",
        "colab_type": "text"
      },
      "source": [
        "# (Misc) Export model(s) to GDrive"
      ]
    },
    {
      "cell_type": "code",
      "metadata": {
        "id": "voLcTbF8VTmv",
        "colab_type": "code",
        "colab": {}
      },
      "source": [
        "checkpoint_path = \"/content/gdrive/My Drive/Trained_Models/wine_binary_classifier/cp.ckpt\"\n",
        "checkpoint_dir = os.path.dirname(checkpoint_path)"
      ],
      "execution_count": 0,
      "outputs": []
    },
    {
      "cell_type": "code",
      "metadata": {
        "id": "Jzz9CnDBR_tm",
        "colab_type": "code",
        "colab": {}
      },
      "source": [
        "model.save_weights('/content/gdrive/My Drive/Trained_Models/wine_binary_classifier/wine_binary_quality_model')"
      ],
      "execution_count": 0,
      "outputs": []
    },
    {
      "cell_type": "code",
      "metadata": {
        "id": "q4IiU2YUYKVG",
        "colab_type": "code",
        "colab": {}
      },
      "source": [
        "model_save_name = 'wine_binary_classifier'\n",
        "save_model_path = '/content/gdrive/My Drive/Trained_Models/wine_binary_classifier'"
      ],
      "execution_count": 0,
      "outputs": []
    },
    {
      "cell_type": "code",
      "metadata": {
        "id": "YzSzH3Guaphn",
        "colab_type": "code",
        "outputId": "2a830ad1-3cd1-47c5-d604-1f8f407c0ccc",
        "colab": {
          "base_uri": "https://localhost:8080/",
          "height": 71
        }
      },
      "source": [
        "model.save(save_model_path)"
      ],
      "execution_count": 0,
      "outputs": [
        {
          "output_type": "stream",
          "text": [
            "INFO:tensorflow:Assets written to: /content/gdrive/My Drive/Trained_Models/wine_binary_classifier/assets\n"
          ],
          "name": "stdout"
        },
        {
          "output_type": "stream",
          "text": [
            "INFO:tensorflow:Assets written to: /content/gdrive/My Drive/Trained_Models/wine_binary_classifier/assets\n"
          ],
          "name": "stderr"
        }
      ]
    },
    {
      "cell_type": "code",
      "metadata": {
        "id": "omxZrC-bawOY",
        "colab_type": "code",
        "colab": {}
      },
      "source": [
        "model.save('/content/gdrive/My Drive/Trained_Models/wine_binary_classifier/wine_binary_classifier.h5') "
      ],
      "execution_count": 0,
      "outputs": []
    },
    {
      "cell_type": "code",
      "metadata": {
        "id": "Fh3NfZ1EbO3A",
        "colab_type": "code",
        "outputId": "b2545f6c-4f8a-4627-e2db-2478908e43d3",
        "colab": {
          "base_uri": "https://localhost:8080/",
          "height": 54
        }
      },
      "source": [
        "converter = tf.lite.TFLiteConverter.from_saved_model(save_model_path)\n",
        "tflite_model = converter.convert()\n",
        "open(\"/content/gdrive/My Drive/Trained_Models/wine_binary_classifier/wine_binary_classifier.tflite\", \"wb\").write(tflite_model)"
      ],
      "execution_count": 0,
      "outputs": [
        {
          "output_type": "execute_result",
          "data": {
            "text/plain": [
              "8776"
            ]
          },
          "metadata": {
            "tags": []
          },
          "execution_count": 80
        }
      ]
    }
  ]
}